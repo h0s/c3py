{
 "cells": [
  {
   "cell_type": "markdown",
   "metadata": {},
   "source": [
    "<h1>Contents</h1>"
   ]
  },
  {
   "cell_type": "markdown",
   "metadata": {},
   "source": [
    "<div id=\"table_of_contents\"></div>"
   ]
  },
  {
   "cell_type": "markdown",
   "metadata": {},
   "source": [
    "<h1>c3py</h1>\n",
    "\n",
    "c3py is a Python wrapper around c3js (http://c3js.org/)."
   ]
  },
  {
   "cell_type": "markdown",
   "metadata": {},
   "source": [
    "<h2>Introduction</h2>"
   ]
  },
  {
   "cell_type": "markdown",
   "metadata": {},
   "source": [
    "c3js has a function named <a href=\"http://c3js.org/gettingstarted.html#generate\">generate</a>, which takes a JSON object as input, and generates a chart which is bound to a specified &lt;div&gt; element. The basic premise of c3py is to build a Python dictionary, which is then converted to a JSON object using <a href=\"https://docs.python.org/2/library/json.html#json.dumps\">json.dumps</a>, and passed to c3.generate().\n",
    "\n",
    "This works particularly well with Jupyter notebooks, where the <a href=\"https://ipython.org/ipython-doc/dev/api/generated/IPython.display.html#IPython.display.HTML\">HTML</a> function from IPython.display can be used to display the interactive chart inline."
   ]
  },
  {
   "cell_type": "markdown",
   "metadata": {},
   "source": [
    "<h2>Basic usage</h2>"
   ]
  },
  {
   "cell_type": "markdown",
   "metadata": {},
   "source": [
    "First, import c3py and HTML (from IPython.display)."
   ]
  },
  {
   "cell_type": "code",
   "execution_count": 1,
   "metadata": {
    "collapsed": true
   },
   "outputs": [],
   "source": [
    "import c3py\n",
    "from IPython.display import HTML"
   ]
  },
  {
   "cell_type": "markdown",
   "metadata": {},
   "source": [
    "Create an instance of the Chart class, providing the chart's name as the lone argument. The name will be the ID of the &lt;div&gt; which contains that chart, i.e. two charts in the same document should not have the same name."
   ]
  },
  {
   "cell_type": "code",
   "execution_count": 2,
   "metadata": {
    "collapsed": true
   },
   "outputs": [],
   "source": [
    "chart_one = c3py.Chart('chart_one')"
   ]
  },
  {
   "cell_type": "markdown",
   "metadata": {},
   "source": [
    "The chart contains a data object, which has functions analogous to c3js' different <a href=\"http://c3js.org/examples.html#chart\">chart types</a>. These include:\n",
    "\n",
    "<ul>\n",
    "    <li>line</li>\n",
    "    <li>area</li>\n",
    "    <li>bar</li>\n",
    "    <li>scatter</li>\n",
    "</ul>\n",
    "\n",
    "Each of these functions takes, as arguments, x and y, which are lists of values, and label, which is a string defining the name of the series."
   ]
  },
  {
   "cell_type": "code",
   "execution_count": 3,
   "metadata": {
    "collapsed": true
   },
   "outputs": [],
   "source": [
    "chart_one.data.line(x=range(1, 6), y=range(10, 60, 10), label='series_one')"
   ]
  },
  {
   "cell_type": "markdown",
   "metadata": {},
   "source": [
    "Once data has been added, the chart can be displayed in a notebook using the HTML function imported earlier. Alternatively, c3py can be used in a web application, and the HTML string can be passed to the front-end template."
   ]
  },
  {
   "cell_type": "code",
   "execution_count": 4,
   "metadata": {
    "collapsed": false
   },
   "outputs": [
    {
     "data": {
      "text/html": [
       "<div id=\"chart_one\"></div>\n",
       "<link href=\"https://cdnjs.cloudflare.com/ajax/libs/c3/0.4.10/c3.min.css\" type=\"text/css\" rel=\"stylesheet\"></link>\n",
       "<script src=\"http://ajax.googleapis.com/ajax/libs/jquery/1.11.2/jquery.min.js\"></script>\n",
       "<script src=\"https://cdnjs.cloudflare.com/ajax/libs/require.js/2.1.17/require.min.js\"></script>\n",
       "<style></style>\n",
       "<script type=\"text/javascript\">\n",
       "            require.config({\"paths\": {\"c3\": \"https://cdnjs.cloudflare.com/ajax/libs/c3/0.4.10/c3.min\", \"d3\": \"http://d3js.org/d3.v3.min\"}});\n",
       "\n",
       "            require([\"d3\", \"c3\"], function(d3, c3) {\n",
       "                var chart = c3.generate({bindto: '#chart_one', regions: [], padding: {}, grid: {y: {lines: [], show: false}, x: {lines: [], show: false}}, point: {}, size: {}, data: {axes: {series_one: 'y'}, labels: {format: {}}, colors: {}, columns: [['xseries_one', 1, 2, 3, 4, 5], ['series_one', 10, 20, 30, 40, 50]], groups: [], xs: {'series_one': 'xseries_one'}, types: {series_one: 'line'}}, legend: {position: 'bottom', hide: false, show: true}, tooltip: {grouped: true, format: {}, show: true}, axis: {y: {padding: {top: 0, bottom: 0}, tick: {}, label: {}, show: true}, x: {padding: {}, tick: {}, type: 'indexed', label: {}, show: true}, y2: {padding: {top: 0, bottom: 0}, tick: {}, label: {}, show: false}}});\n",
       "            });\n",
       "        </script>"
      ],
      "text/plain": [
       "<IPython.core.display.HTML object>"
      ]
     },
     "execution_count": 4,
     "metadata": {},
     "output_type": "execute_result"
    }
   ],
   "source": [
    "HTML(chart_one.get_html_string())"
   ]
  },
  {
   "cell_type": "markdown",
   "metadata": {},
   "source": [
    "<h2>Chart types</h2>"
   ]
  },
  {
   "cell_type": "markdown",
   "metadata": {},
   "source": [
    "<h3>Line</h3>"
   ]
  },
  {
   "cell_type": "code",
   "execution_count": 5,
   "metadata": {
    "collapsed": false
   },
   "outputs": [
    {
     "data": {
      "text/html": [
       "<div id=\"line_chart\"></div>\n",
       "<link href=\"https://cdnjs.cloudflare.com/ajax/libs/c3/0.4.10/c3.min.css\" type=\"text/css\" rel=\"stylesheet\"></link>\n",
       "<script src=\"http://ajax.googleapis.com/ajax/libs/jquery/1.11.2/jquery.min.js\"></script>\n",
       "<script src=\"https://cdnjs.cloudflare.com/ajax/libs/require.js/2.1.17/require.min.js\"></script>\n",
       "<style></style>\n",
       "<script type=\"text/javascript\">\n",
       "            require.config({\"paths\": {\"c3\": \"https://cdnjs.cloudflare.com/ajax/libs/c3/0.4.10/c3.min\", \"d3\": \"http://d3js.org/d3.v3.min\"}});\n",
       "\n",
       "            require([\"d3\", \"c3\"], function(d3, c3) {\n",
       "                var chart = c3.generate({bindto: '#line_chart', regions: [], padding: {}, grid: {y: {lines: [], show: false}, x: {lines: [], show: false}}, point: {}, size: {}, data: {axes: {line: 'y', step: 'y', spline: 'y'}, labels: {format: {}}, colors: {}, columns: [['xline', 1, 2, 3, 4, 5], ['line', 10, 40, 20, 30, 50], ['xstep', 6, 7, 8, 9, 10], ['step', 10, 40, 20, 30, 50], ['xspline', 11, 12, 13, 14, 15], ['spline', 10, 40, 20, 30, 50]], groups: [], xs: {'spline': 'xspline', 'step': 'xstep', 'line': 'xline'}, types: {line: 'line', step: 'step', spline: 'spline'}}, legend: {position: 'bottom', hide: false, show: true}, tooltip: {grouped: true, format: {}, show: true}, axis: {y: {padding: {top: 0, bottom: 0}, tick: {}, label: {}, show: true}, x: {padding: {}, tick: {}, type: 'indexed', label: {}, show: true}, y2: {padding: {top: 0, bottom: 0}, tick: {}, label: {}, show: false}}});\n",
       "            });\n",
       "        </script>"
      ],
      "text/plain": [
       "<IPython.core.display.HTML object>"
      ]
     },
     "execution_count": 5,
     "metadata": {},
     "output_type": "execute_result"
    }
   ],
   "source": [
    "line_chart = c3py.Chart('line_chart')\n",
    "line_chart.data.line(x=[1, 2, 3, 4, 5], y=[10, 40, 20, 30, 50], label='line')\n",
    "line_chart.data.line(x=[6, 7, 8, 9, 10], y=[10, 40, 20, 30, 50], step=True, label='step')\n",
    "line_chart.data.line(x=[11, 12, 13, 14, 15], y=[10, 40, 20, 30, 50], spline=True, label='spline')\n",
    "\n",
    "HTML(line_chart.get_html_string())"
   ]
  },
  {
   "cell_type": "markdown",
   "metadata": {},
   "source": [
    "<h4>Marker visibility</h4>"
   ]
  },
  {
   "cell_type": "code",
   "execution_count": 6,
   "metadata": {
    "collapsed": false
   },
   "outputs": [
    {
     "data": {
      "text/html": [
       "<div id=\"no_marker_line_chart\"></div>\n",
       "<link href=\"https://cdnjs.cloudflare.com/ajax/libs/c3/0.4.10/c3.min.css\" type=\"text/css\" rel=\"stylesheet\"></link>\n",
       "<script src=\"http://ajax.googleapis.com/ajax/libs/jquery/1.11.2/jquery.min.js\"></script>\n",
       "<script src=\"https://cdnjs.cloudflare.com/ajax/libs/require.js/2.1.17/require.min.js\"></script>\n",
       "<style></style>\n",
       "<script type=\"text/javascript\">\n",
       "            require.config({\"paths\": {\"c3\": \"https://cdnjs.cloudflare.com/ajax/libs/c3/0.4.10/c3.min\", \"d3\": \"http://d3js.org/d3.v3.min\"}});\n",
       "\n",
       "            require([\"d3\", \"c3\"], function(d3, c3) {\n",
       "                var chart = c3.generate({bindto: '#no_marker_line_chart', regions: [], padding: {}, grid: {y: {lines: [], show: false}, x: {lines: [], show: false}}, point: {show: false}, size: {}, data: {axes: {line: 'y'}, labels: {format: {}}, colors: {}, columns: [['xline', 1, 2, 3, 4, 5], ['line', 10, 40, 20, 30, 50]], groups: [], xs: {'line': 'xline'}, types: {line: 'line'}}, legend: {position: 'bottom', hide: false, show: true}, tooltip: {grouped: true, format: {}, show: true}, axis: {y: {padding: {top: 0, bottom: 0}, tick: {}, label: {}, show: true}, x: {padding: {}, tick: {}, type: 'indexed', label: {}, show: true}, y2: {padding: {top: 0, bottom: 0}, tick: {}, label: {}, show: false}}});\n",
       "            });\n",
       "        </script>"
      ],
      "text/plain": [
       "<IPython.core.display.HTML object>"
      ]
     },
     "execution_count": 6,
     "metadata": {},
     "output_type": "execute_result"
    }
   ],
   "source": [
    "no_marker_line_chart = c3py.Chart('no_marker_line_chart')\n",
    "no_marker_line_chart.data.line(x=[1, 2, 3, 4, 5], y=[10, 40, 20, 30, 50], label='line')\n",
    "\n",
    "no_marker_line_chart.point.set_visibility(False)\n",
    "\n",
    "HTML(no_marker_line_chart.get_html_string())"
   ]
  },
  {
   "cell_type": "markdown",
   "metadata": {},
   "source": [
    "<h3>Area</h3>"
   ]
  },
  {
   "cell_type": "code",
   "execution_count": 7,
   "metadata": {
    "collapsed": false
   },
   "outputs": [
    {
     "data": {
      "text/html": [
       "<div id=\"area_chart\"></div>\n",
       "<link href=\"https://cdnjs.cloudflare.com/ajax/libs/c3/0.4.10/c3.min.css\" type=\"text/css\" rel=\"stylesheet\"></link>\n",
       "<script src=\"http://ajax.googleapis.com/ajax/libs/jquery/1.11.2/jquery.min.js\"></script>\n",
       "<script src=\"https://cdnjs.cloudflare.com/ajax/libs/require.js/2.1.17/require.min.js\"></script>\n",
       "<style></style>\n",
       "<script type=\"text/javascript\">\n",
       "            require.config({\"paths\": {\"c3\": \"https://cdnjs.cloudflare.com/ajax/libs/c3/0.4.10/c3.min\", \"d3\": \"http://d3js.org/d3.v3.min\"}});\n",
       "\n",
       "            require([\"d3\", \"c3\"], function(d3, c3) {\n",
       "                var chart = c3.generate({bindto: '#area_chart', regions: [], padding: {}, grid: {y: {lines: [], show: false}, x: {lines: [], show: false}}, point: {}, size: {}, data: {axes: {area_step: 'y', area_spline: 'y', area: 'y'}, labels: {format: {}}, colors: {}, columns: [['xarea', 1, 2, 3, 4, 5], ['area', 10, 40, 20, 30, 50], ['xarea_step', 6, 7, 8, 9, 10], ['area_step', 10, 40, 20, 30, 50], ['xarea_spline', 11, 12, 13, 14, 15], ['area_spline', 10, 40, 20, 30, 50]], groups: [], xs: {'area_spline': 'xarea_spline', 'area': 'xarea', 'area_step': 'xarea_step'}, types: {area_step: 'area-step', area_spline: 'area-spline', area: 'area'}}, legend: {position: 'bottom', hide: false, show: true}, tooltip: {grouped: true, format: {}, show: true}, axis: {y: {padding: {top: 0, bottom: 0}, tick: {}, label: {}, show: true}, x: {padding: {}, tick: {}, type: 'indexed', label: {}, show: true}, y2: {padding: {top: 0, bottom: 0}, tick: {}, label: {}, show: false}}});\n",
       "            });\n",
       "        </script>"
      ],
      "text/plain": [
       "<IPython.core.display.HTML object>"
      ]
     },
     "execution_count": 7,
     "metadata": {},
     "output_type": "execute_result"
    }
   ],
   "source": [
    "area_chart = c3py.Chart('area_chart')\n",
    "area_chart.data.area(x=[1, 2, 3, 4, 5], y=[10, 40, 20, 30, 50], label='area')\n",
    "area_chart.data.area(x=[6, 7, 8, 9, 10], y=[10, 40, 20, 30, 50], step=True, label='area_step')\n",
    "area_chart.data.area(x=[11, 12, 13, 14, 15], y=[10, 40, 20, 30, 50], spline=True, label='area_spline')\n",
    "\n",
    "HTML(area_chart.get_html_string())"
   ]
  },
  {
   "cell_type": "markdown",
   "metadata": {},
   "source": [
    "<h4>Stacked area</h4>"
   ]
  },
  {
   "cell_type": "code",
   "execution_count": 8,
   "metadata": {
    "collapsed": false
   },
   "outputs": [
    {
     "data": {
      "text/html": [
       "<div id=\"stacked_area_chart\"></div>\n",
       "<link href=\"https://cdnjs.cloudflare.com/ajax/libs/c3/0.4.10/c3.min.css\" type=\"text/css\" rel=\"stylesheet\"></link>\n",
       "<script src=\"http://ajax.googleapis.com/ajax/libs/jquery/1.11.2/jquery.min.js\"></script>\n",
       "<script src=\"https://cdnjs.cloudflare.com/ajax/libs/require.js/2.1.17/require.min.js\"></script>\n",
       "<style></style>\n",
       "<script type=\"text/javascript\">\n",
       "            require.config({\"paths\": {\"c3\": \"https://cdnjs.cloudflare.com/ajax/libs/c3/0.4.10/c3.min\", \"d3\": \"http://d3js.org/d3.v3.min\"}});\n",
       "\n",
       "            require([\"d3\", \"c3\"], function(d3, c3) {\n",
       "                var chart = c3.generate({bindto: '#stacked_area_chart', regions: [], padding: {}, grid: {y: {lines: [], show: false}, x: {lines: [], show: false}}, point: {}, size: {}, data: {axes: {area_two: 'y', area_three: 'y', area_one: 'y'}, labels: {format: {}}, colors: {}, columns: [['xarea_one', 1, 2, 3, 4, 5], ['area_one', 10, 40, 20, 30, 50], ['xarea_two', 1, 2, 3, 4, 5], ['area_two', 10, 40, 20, 30, 50], ['xarea_three', 6, 7, 8, 9, 10], ['area_three', 10, 40, 20, 30, 50]], groups: [['area_one', 'area_two']], xs: {'area_two': 'xarea_two', 'area_three': 'xarea_three', 'area_one': 'xarea_one'}, types: {area_two: 'area', area_three: 'area', area_one: 'area'}}, legend: {position: 'bottom', hide: false, show: true}, tooltip: {grouped: true, format: {}, show: true}, axis: {y: {padding: {top: 0, bottom: 0}, tick: {}, label: {}, show: true}, x: {padding: {}, tick: {}, type: 'indexed', label: {}, show: true}, y2: {padding: {top: 0, bottom: 0}, tick: {}, label: {}, show: false}}});\n",
       "            });\n",
       "        </script>"
      ],
      "text/plain": [
       "<IPython.core.display.HTML object>"
      ]
     },
     "execution_count": 8,
     "metadata": {},
     "output_type": "execute_result"
    }
   ],
   "source": [
    "stacked_area_chart = c3py.Chart('stacked_area_chart')\n",
    "stacked_area_chart.data.area(x=[1, 2, 3, 4, 5], y=[10, 40, 20, 30, 50], label='area_one')\n",
    "stacked_area_chart.data.area(x=[1, 2, 3, 4, 5], y=[10, 40, 20, 30, 50], label='area_two')\n",
    "stacked_area_chart.data.area(x=[6, 7, 8, 9, 10], y=[10, 40, 20, 30, 50], label='area_three')\n",
    "\n",
    "stacked_area_chart.data.group_series(['area_one', 'area_two'])\n",
    "\n",
    "HTML(stacked_area_chart.get_html_string())"
   ]
  },
  {
   "cell_type": "markdown",
   "metadata": {},
   "source": [
    "<h3>Bar</h3>"
   ]
  },
  {
   "cell_type": "code",
   "execution_count": 9,
   "metadata": {
    "collapsed": false
   },
   "outputs": [
    {
     "data": {
      "text/html": [
       "<div id=\"bar_chart\"></div>\n",
       "<link href=\"https://cdnjs.cloudflare.com/ajax/libs/c3/0.4.10/c3.min.css\" type=\"text/css\" rel=\"stylesheet\"></link>\n",
       "<script src=\"http://ajax.googleapis.com/ajax/libs/jquery/1.11.2/jquery.min.js\"></script>\n",
       "<script src=\"https://cdnjs.cloudflare.com/ajax/libs/require.js/2.1.17/require.min.js\"></script>\n",
       "<style></style>\n",
       "<script type=\"text/javascript\">\n",
       "            require.config({\"paths\": {\"c3\": \"https://cdnjs.cloudflare.com/ajax/libs/c3/0.4.10/c3.min\", \"d3\": \"http://d3js.org/d3.v3.min\"}});\n",
       "\n",
       "            require([\"d3\", \"c3\"], function(d3, c3) {\n",
       "                var chart = c3.generate({bindto: '#bar_chart', regions: [], padding: {}, grid: {y: {lines: [], show: false}, x: {lines: [], show: false}}, point: {}, size: {}, data: {axes: {bar: 'y'}, labels: {format: {}}, colors: {}, columns: [['xbar', 1, 2, 3, 4, 5], ['bar', 10, 40, 20, 30, 50]], groups: [], xs: {'bar': 'xbar'}, types: {bar: 'bar'}}, legend: {position: 'bottom', hide: false, show: true}, tooltip: {grouped: true, format: {}, show: true}, axis: {y: {padding: {top: 0, bottom: 0}, tick: {}, label: {}, show: true}, x: {padding: {}, tick: {}, type: 'indexed', label: {}, show: true}, y2: {padding: {top: 0, bottom: 0}, tick: {}, label: {}, show: false}}});\n",
       "            });\n",
       "        </script>"
      ],
      "text/plain": [
       "<IPython.core.display.HTML object>"
      ]
     },
     "execution_count": 9,
     "metadata": {},
     "output_type": "execute_result"
    }
   ],
   "source": [
    "bar_chart = c3py.Chart('bar_chart')\n",
    "bar_chart.data.bar(x=[1, 2, 3, 4, 5], y=[10, 40, 20, 30, 50], label='bar')\n",
    "\n",
    "HTML(bar_chart.get_html_string())"
   ]
  },
  {
   "cell_type": "markdown",
   "metadata": {},
   "source": [
    "<h4>Stacked bar</h4>"
   ]
  },
  {
   "cell_type": "code",
   "execution_count": 10,
   "metadata": {
    "collapsed": false
   },
   "outputs": [
    {
     "data": {
      "text/html": [
       "<div id=\"stacked_bar_chart\"></div>\n",
       "<link href=\"https://cdnjs.cloudflare.com/ajax/libs/c3/0.4.10/c3.min.css\" type=\"text/css\" rel=\"stylesheet\"></link>\n",
       "<script src=\"http://ajax.googleapis.com/ajax/libs/jquery/1.11.2/jquery.min.js\"></script>\n",
       "<script src=\"https://cdnjs.cloudflare.com/ajax/libs/require.js/2.1.17/require.min.js\"></script>\n",
       "<style></style>\n",
       "<script type=\"text/javascript\">\n",
       "            require.config({\"paths\": {\"c3\": \"https://cdnjs.cloudflare.com/ajax/libs/c3/0.4.10/c3.min\", \"d3\": \"http://d3js.org/d3.v3.min\"}});\n",
       "\n",
       "            require([\"d3\", \"c3\"], function(d3, c3) {\n",
       "                var chart = c3.generate({bindto: '#stacked_bar_chart', regions: [], padding: {}, grid: {y: {lines: [], show: false}, x: {lines: [], show: false}}, point: {}, size: {}, data: {axes: {bar_three: 'y', bar_two: 'y', bar_one: 'y'}, labels: {format: {}}, colors: {}, columns: [['xbar_one', 1, 2, 3, 4, 5], ['bar_one', 10, 40, 20, 30, 50], ['xbar_two', 1, 2, 3, 4, 5], ['bar_two', 10, 40, 20, 30, 50], ['xbar_three', 1, 2, 3, 4, 5], ['bar_three', 10, 40, 20, 30, 50]], groups: [['bar_one', 'bar_two']], xs: {'bar_two': 'xbar_two', 'bar_one': 'xbar_one', 'bar_three': 'xbar_three'}, types: {bar_three: 'bar', bar_two: 'bar', bar_one: 'bar'}}, legend: {position: 'bottom', hide: false, show: true}, tooltip: {grouped: true, format: {}, show: true}, axis: {y: {padding: {top: 0, bottom: 0}, tick: {}, label: {}, show: true}, x: {padding: {}, tick: {}, type: 'indexed', label: {}, show: true}, y2: {padding: {top: 0, bottom: 0}, tick: {}, label: {}, show: false}}});\n",
       "            });\n",
       "        </script>"
      ],
      "text/plain": [
       "<IPython.core.display.HTML object>"
      ]
     },
     "execution_count": 10,
     "metadata": {},
     "output_type": "execute_result"
    }
   ],
   "source": [
    "stacked_bar_chart = c3py.Chart('stacked_bar_chart')\n",
    "stacked_bar_chart.data.bar(x=[1, 2, 3, 4, 5], y=[10, 40, 20, 30, 50], label='bar_one')\n",
    "stacked_bar_chart.data.bar(x=[1, 2, 3, 4, 5], y=[10, 40, 20, 30, 50], label='bar_two')\n",
    "stacked_bar_chart.data.bar(x=[1, 2, 3, 4, 5], y=[10, 40, 20, 30, 50], label='bar_three')\n",
    "\n",
    "stacked_bar_chart.data.group_series(['bar_one', 'bar_two'])\n",
    "\n",
    "HTML(stacked_bar_chart.get_html_string())"
   ]
  },
  {
   "cell_type": "markdown",
   "metadata": {},
   "source": [
    "<h3>Scatter</h3>"
   ]
  },
  {
   "cell_type": "code",
   "execution_count": 11,
   "metadata": {
    "collapsed": false
   },
   "outputs": [
    {
     "data": {
      "text/html": [
       "<div id=\"scatter_chart\"></div>\n",
       "<link href=\"https://cdnjs.cloudflare.com/ajax/libs/c3/0.4.10/c3.min.css\" type=\"text/css\" rel=\"stylesheet\"></link>\n",
       "<script src=\"http://ajax.googleapis.com/ajax/libs/jquery/1.11.2/jquery.min.js\"></script>\n",
       "<script src=\"https://cdnjs.cloudflare.com/ajax/libs/require.js/2.1.17/require.min.js\"></script>\n",
       "<style></style>\n",
       "<script type=\"text/javascript\">\n",
       "            require.config({\"paths\": {\"c3\": \"https://cdnjs.cloudflare.com/ajax/libs/c3/0.4.10/c3.min\", \"d3\": \"http://d3js.org/d3.v3.min\"}});\n",
       "\n",
       "            require([\"d3\", \"c3\"], function(d3, c3) {\n",
       "                var chart = c3.generate({bindto: '#scatter_chart', regions: [], padding: {}, grid: {y: {lines: [], show: false}, x: {lines: [], show: false}}, point: {}, size: {}, data: {axes: {scatter: 'y'}, labels: {format: {}}, colors: {}, columns: [['xscatter', 1, 2, 3, 4, 5], ['scatter', 10, 40, 20, 30, 50]], groups: [], xs: {'scatter': 'xscatter'}, types: {scatter: 'scatter'}}, legend: {position: 'bottom', hide: false, show: true}, tooltip: {grouped: true, format: {}, show: true}, axis: {y: {padding: {top: 0, bottom: 0}, tick: {}, label: {}, show: true}, x: {padding: {}, tick: {}, type: 'indexed', label: {}, show: true}, y2: {padding: {top: 0, bottom: 0}, tick: {}, label: {}, show: false}}});\n",
       "            });\n",
       "        </script>"
      ],
      "text/plain": [
       "<IPython.core.display.HTML object>"
      ]
     },
     "execution_count": 11,
     "metadata": {},
     "output_type": "execute_result"
    }
   ],
   "source": [
    "scatter_chart = c3py.Chart('scatter_chart')\n",
    "scatter_chart.data.scatter(x=[1, 2, 3, 4, 5], y=[10, 40, 20, 30, 50], label='scatter')\n",
    "\n",
    "HTML(scatter_chart.get_html_string())"
   ]
  },
  {
   "cell_type": "markdown",
   "metadata": {},
   "source": [
    "<h3>Combination</h3>"
   ]
  },
  {
   "cell_type": "code",
   "execution_count": 12,
   "metadata": {
    "collapsed": false
   },
   "outputs": [
    {
     "data": {
      "text/html": [
       "<div id=\"combination_chart\"></div>\n",
       "<link href=\"https://cdnjs.cloudflare.com/ajax/libs/c3/0.4.10/c3.min.css\" type=\"text/css\" rel=\"stylesheet\"></link>\n",
       "<script src=\"http://ajax.googleapis.com/ajax/libs/jquery/1.11.2/jquery.min.js\"></script>\n",
       "<script src=\"https://cdnjs.cloudflare.com/ajax/libs/require.js/2.1.17/require.min.js\"></script>\n",
       "<style></style>\n",
       "<script type=\"text/javascript\">\n",
       "            require.config({\"paths\": {\"c3\": \"https://cdnjs.cloudflare.com/ajax/libs/c3/0.4.10/c3.min\", \"d3\": \"http://d3js.org/d3.v3.min\"}});\n",
       "\n",
       "            require([\"d3\", \"c3\"], function(d3, c3) {\n",
       "                var chart = c3.generate({bindto: '#combination_chart', regions: [], padding: {}, grid: {y: {lines: [], show: false}, x: {lines: [], show: false}}, point: {}, size: {}, data: {axes: {line: 'y', bar: 'y', scatter: 'y', area: 'y'}, labels: {format: {}}, colors: {}, columns: [['xline', 1, 2, 3, 4, 5], ['line', 10, 40, 20, 30, 50], ['xarea', 1, 2, 3, 4, 5], ['area', 5, 20, 10, 15, 25], ['xscatter', 6, 7, 8, 9, 10], ['scatter', 10, 40, 20, 30, 50], ['xbar', 6, 7, 8, 9, 10], ['bar', 5, 20, 10, 15, 25]], groups: [], xs: {'bar': 'xbar', 'area': 'xarea', 'line': 'xline', 'scatter': 'xscatter'}, types: {line: 'line', bar: 'bar', scatter: 'scatter', area: 'area'}}, legend: {position: 'bottom', hide: false, show: true}, tooltip: {grouped: true, format: {}, show: true}, axis: {y: {padding: {top: 0, bottom: 0}, tick: {}, label: {}, show: true}, x: {padding: {}, tick: {}, type: 'indexed', label: {}, show: true}, y2: {padding: {top: 0, bottom: 0}, tick: {}, label: {}, show: false}}});\n",
       "            });\n",
       "        </script>"
      ],
      "text/plain": [
       "<IPython.core.display.HTML object>"
      ]
     },
     "execution_count": 12,
     "metadata": {},
     "output_type": "execute_result"
    }
   ],
   "source": [
    "combination_chart = c3py.Chart('combination_chart')\n",
    "\n",
    "combination_chart.data.line(x=[1, 2, 3, 4, 5], y=[10, 40, 20, 30, 50], label='line')\n",
    "combination_chart.data.area(x=[1, 2, 3, 4, 5], y=[5, 20, 10, 15, 25], label='area')\n",
    "combination_chart.data.scatter(x=[6, 7, 8, 9, 10], y=[10, 40, 20, 30, 50], label='scatter')\n",
    "combination_chart.data.bar(x=[6, 7, 8, 9, 10], y=[5, 20, 10, 15, 25], label='bar')\n",
    "\n",
    "HTML(combination_chart.get_html_string())"
   ]
  },
  {
   "cell_type": "markdown",
   "metadata": {},
   "source": [
    "<h2>Axes</h2>"
   ]
  },
  {
   "cell_type": "markdown",
   "metadata": {},
   "source": [
    "<h3>X axis type</h3>"
   ]
  },
  {
   "cell_type": "markdown",
   "metadata": {},
   "source": [
    "<h4>Category</h4>"
   ]
  },
  {
   "cell_type": "code",
   "execution_count": 13,
   "metadata": {
    "collapsed": false
   },
   "outputs": [
    {
     "data": {
      "text/html": [
       "<div id=\"category_axis\"></div>\n",
       "<link href=\"https://cdnjs.cloudflare.com/ajax/libs/c3/0.4.10/c3.min.css\" type=\"text/css\" rel=\"stylesheet\"></link>\n",
       "<script src=\"http://ajax.googleapis.com/ajax/libs/jquery/1.11.2/jquery.min.js\"></script>\n",
       "<script src=\"https://cdnjs.cloudflare.com/ajax/libs/require.js/2.1.17/require.min.js\"></script>\n",
       "<style></style>\n",
       "<script type=\"text/javascript\">\n",
       "            require.config({\"paths\": {\"c3\": \"https://cdnjs.cloudflare.com/ajax/libs/c3/0.4.10/c3.min\", \"d3\": \"http://d3js.org/d3.v3.min\"}});\n",
       "\n",
       "            require([\"d3\", \"c3\"], function(d3, c3) {\n",
       "                var chart = c3.generate({bindto: '#category_axis', regions: [], padding: {}, grid: {y: {lines: [], show: false}, x: {lines: [], show: false}}, point: {}, size: {}, data: {axes: {bar_category: 'y'}, labels: {format: {}}, colors: {}, columns: [['xbar_category', 'a', 'b', 'c', 'd', 'e'], ['bar_category', 10, 40, 20, 30, 50]], groups: [], xs: {'bar_category': 'xbar_category'}, types: {bar_category: 'bar'}}, legend: {position: 'bottom', hide: false, show: true}, tooltip: {grouped: true, format: {}, show: true}, axis: {y: {padding: {top: 0, bottom: 0}, tick: {}, label: {}, show: true}, x: {padding: {}, tick: {}, type: 'category', label: {}, show: true}, y2: {padding: {top: 0, bottom: 0}, tick: {}, label: {}, show: false}}});\n",
       "            });\n",
       "        </script>"
      ],
      "text/plain": [
       "<IPython.core.display.HTML object>"
      ]
     },
     "execution_count": 13,
     "metadata": {},
     "output_type": "execute_result"
    }
   ],
   "source": [
    "category_axis = c3py.Chart('category_axis')\n",
    "\n",
    "category_axis.axes.x_axis.set_type('category')\n",
    "\n",
    "category_axis.data.bar(x=['a', 'b', 'c', 'd', 'e'], y=[10, 40, 20, 30, 50], label='bar_category')\n",
    "\n",
    "HTML(category_axis.get_html_string())"
   ]
  },
  {
   "cell_type": "markdown",
   "metadata": {},
   "source": [
    "<h4>Time series</h4>"
   ]
  },
  {
   "cell_type": "code",
   "execution_count": 14,
   "metadata": {
    "collapsed": false
   },
   "outputs": [
    {
     "data": {
      "text/html": [
       "<div id=\"timeseries_axis\"></div>\n",
       "<link href=\"https://cdnjs.cloudflare.com/ajax/libs/c3/0.4.10/c3.min.css\" type=\"text/css\" rel=\"stylesheet\"></link>\n",
       "<script src=\"http://ajax.googleapis.com/ajax/libs/jquery/1.11.2/jquery.min.js\"></script>\n",
       "<script src=\"https://cdnjs.cloudflare.com/ajax/libs/require.js/2.1.17/require.min.js\"></script>\n",
       "<style></style>\n",
       "<script type=\"text/javascript\">\n",
       "            require.config({\"paths\": {\"c3\": \"https://cdnjs.cloudflare.com/ajax/libs/c3/0.4.10/c3.min\", \"d3\": \"http://d3js.org/d3.v3.min\"}});\n",
       "\n",
       "            require([\"d3\", \"c3\"], function(d3, c3) {\n",
       "                var chart = c3.generate({bindto: '#timeseries_axis', regions: [], padding: {}, grid: {y: {lines: [], show: false}, x: {lines: [], show: false}}, point: {}, size: {}, data: {axes: {line_timeseries: 'y'}, labels: {format: {}}, colors: {}, columns: [['xline_timeseries', '2000-01-01', '2000-01-02', '2000-01-03', '2000-01-04', '2000-01-05'], ['line_timeseries', 10, 40, 20, 30, 50]], groups: [], xs: {'line_timeseries': 'xline_timeseries'}, types: {line_timeseries: 'line'}}, legend: {position: 'bottom', hide: false, show: true}, tooltip: {grouped: true, format: {}, show: true}, axis: {y: {padding: {top: 0, bottom: 0}, tick: {}, label: {}, show: true}, x: {padding: {}, tick: {format: d3.time.format('%Y-%m-%d')}, type: 'timeseries', label: {}, show: true}, y2: {padding: {top: 0, bottom: 0}, tick: {}, label: {}, show: false}}});\n",
       "            });\n",
       "        </script>"
      ],
      "text/plain": [
       "<IPython.core.display.HTML object>"
      ]
     },
     "execution_count": 14,
     "metadata": {},
     "output_type": "execute_result"
    }
   ],
   "source": [
    "timeseries_axis = c3py.Chart('timeseries_axis')\n",
    "\n",
    "timeseries_axis.axes.x_axis.set_type('timeseries')\n",
    "\n",
    "timeseries_axis.data.line(x=['2000-01-01', '2000-01-02', '2000-01-03', '2000-01-04', '2000-01-05'], y=[10, 40, 20, 30, 50], label='line_timeseries')\n",
    "\n",
    "HTML(timeseries_axis.get_html_string())"
   ]
  },
  {
   "cell_type": "markdown",
   "metadata": {},
   "source": [
    "<h3>Axis range</h3>"
   ]
  },
  {
   "cell_type": "code",
   "execution_count": 15,
   "metadata": {
    "collapsed": false
   },
   "outputs": [
    {
     "data": {
      "text/html": [
       "<div id=\"axis_range_chart\"></div>\n",
       "<link href=\"https://cdnjs.cloudflare.com/ajax/libs/c3/0.4.10/c3.min.css\" type=\"text/css\" rel=\"stylesheet\"></link>\n",
       "<script src=\"http://ajax.googleapis.com/ajax/libs/jquery/1.11.2/jquery.min.js\"></script>\n",
       "<script src=\"https://cdnjs.cloudflare.com/ajax/libs/require.js/2.1.17/require.min.js\"></script>\n",
       "<style></style>\n",
       "<script type=\"text/javascript\">\n",
       "            require.config({\"paths\": {\"c3\": \"https://cdnjs.cloudflare.com/ajax/libs/c3/0.4.10/c3.min\", \"d3\": \"http://d3js.org/d3.v3.min\"}});\n",
       "\n",
       "            require([\"d3\", \"c3\"], function(d3, c3) {\n",
       "                var chart = c3.generate({bindto: '#axis_range_chart', regions: [], padding: {}, grid: {y: {lines: [], show: false}, x: {lines: [], show: false}}, point: {}, size: {}, data: {axes: {line: 'y'}, labels: {format: {}}, colors: {}, columns: [['xline', 1, 2, 3, 4, 5], ['line', 10, 40, 20, 30, 50]], groups: [], xs: {'line': 'xline'}, types: {line: 'line'}}, legend: {position: 'bottom', hide: false, show: true}, tooltip: {grouped: true, format: {}, show: true}, axis: {y: {min: 0, max: 100, show: true, label: {}, padding: {top: 0, bottom: 0}, tick: {}}, x: {min: -20, max: 80, show: true, label: {}, padding: {}, tick: {}, type: 'indexed'}, y2: {padding: {top: 0, bottom: 0}, tick: {}, label: {}, show: false}}});\n",
       "            });\n",
       "        </script>"
      ],
      "text/plain": [
       "<IPython.core.display.HTML object>"
      ]
     },
     "execution_count": 15,
     "metadata": {},
     "output_type": "execute_result"
    }
   ],
   "source": [
    "axis_range_chart = c3py.Chart('axis_range_chart')\n",
    "\n",
    "axis_range_chart.data.line(x=[1, 2, 3, 4, 5], y=[10, 40, 20, 30, 50], label='line')\n",
    "\n",
    "axis_range_chart.axes.y_axis.set_range_min(0)\n",
    "axis_range_chart.axes.y_axis.set_range_max(100)\n",
    "axis_range_chart.axes.x_axis.set_range(-20, 80)\n",
    "\n",
    "HTML(axis_range_chart.get_html_string())"
   ]
  },
  {
   "cell_type": "markdown",
   "metadata": {},
   "source": [
    "<h3>Axis padding</h3>"
   ]
  },
  {
   "cell_type": "code",
   "execution_count": 16,
   "metadata": {
    "collapsed": false
   },
   "outputs": [
    {
     "data": {
      "text/html": [
       "<div id=\"axis_padding_chart\"></div>\n",
       "<link href=\"https://cdnjs.cloudflare.com/ajax/libs/c3/0.4.10/c3.min.css\" type=\"text/css\" rel=\"stylesheet\"></link>\n",
       "<script src=\"http://ajax.googleapis.com/ajax/libs/jquery/1.11.2/jquery.min.js\"></script>\n",
       "<script src=\"https://cdnjs.cloudflare.com/ajax/libs/require.js/2.1.17/require.min.js\"></script>\n",
       "<style></style>\n",
       "<script type=\"text/javascript\">\n",
       "            require.config({\"paths\": {\"c3\": \"https://cdnjs.cloudflare.com/ajax/libs/c3/0.4.10/c3.min\", \"d3\": \"http://d3js.org/d3.v3.min\"}});\n",
       "\n",
       "            require([\"d3\", \"c3\"], function(d3, c3) {\n",
       "                var chart = c3.generate({bindto: '#axis_padding_chart', regions: [], padding: {}, grid: {y: {lines: [], show: false}, x: {lines: [], show: false}}, point: {}, size: {}, data: {axes: {line: 'y'}, labels: {format: {}}, colors: {}, columns: [['xline', 1, 2, 3, 4, 5], ['line', 10, 40, 20, 30, 50]], groups: [], xs: {'line': 'xline'}, types: {line: 'line'}}, legend: {position: 'bottom', hide: false, show: true}, tooltip: {grouped: true, format: {}, show: true}, axis: {y: {padding: {top: 20, bottom: 10}, tick: {}, label: {}, show: true}, x: {padding: {right: 5}, tick: {}, type: 'indexed', label: {}, show: true}, y2: {padding: {top: 0, bottom: 0}, tick: {}, label: {}, show: false}}});\n",
       "            });\n",
       "        </script>"
      ],
      "text/plain": [
       "<IPython.core.display.HTML object>"
      ]
     },
     "execution_count": 16,
     "metadata": {},
     "output_type": "execute_result"
    }
   ],
   "source": [
    "axis_padding_chart = c3py.Chart('axis_padding_chart')\n",
    "\n",
    "axis_padding_chart.data.line(x=[1, 2, 3, 4, 5], y=[10, 40, 20, 30, 50], label='line')\n",
    "\n",
    "# y axis padding is in pixels\n",
    "axis_padding_chart.axes.y_axis.padding.set('bottom', 10)\n",
    "axis_padding_chart.axes.y_axis.padding.set('top', 20)\n",
    "\n",
    "# x axis padding is in the unit of the x axis\n",
    "axis_padding_chart.axes.x_axis.padding.set('right', 5)\n",
    "\n",
    "HTML(axis_padding_chart.get_html_string())"
   ]
  },
  {
   "cell_type": "markdown",
   "metadata": {},
   "source": [
    "<h3>Axis label</h3>"
   ]
  },
  {
   "cell_type": "code",
   "execution_count": 17,
   "metadata": {
    "collapsed": false
   },
   "outputs": [
    {
     "data": {
      "text/html": [
       "<div id=\"axis_label_chart\"></div>\n",
       "<link href=\"https://cdnjs.cloudflare.com/ajax/libs/c3/0.4.10/c3.min.css\" type=\"text/css\" rel=\"stylesheet\"></link>\n",
       "<script src=\"http://ajax.googleapis.com/ajax/libs/jquery/1.11.2/jquery.min.js\"></script>\n",
       "<script src=\"https://cdnjs.cloudflare.com/ajax/libs/require.js/2.1.17/require.min.js\"></script>\n",
       "<style></style>\n",
       "<script type=\"text/javascript\">\n",
       "            require.config({\"paths\": {\"c3\": \"https://cdnjs.cloudflare.com/ajax/libs/c3/0.4.10/c3.min\", \"d3\": \"http://d3js.org/d3.v3.min\"}});\n",
       "\n",
       "            require([\"d3\", \"c3\"], function(d3, c3) {\n",
       "                var chart = c3.generate({bindto: '#axis_label_chart', regions: [], padding: {}, grid: {y: {lines: [], show: false}, x: {lines: [], show: false}}, point: {}, size: {}, data: {axes: {line: 'y'}, labels: {format: {}}, colors: {}, columns: [['xline', 1, 2, 3, 4, 5], ['line', 10, 40, 20, 30, 50]], groups: [], xs: {'line': 'xline'}, types: {line: 'line'}}, legend: {position: 'bottom', hide: false, show: true}, tooltip: {grouped: true, format: {}, show: true}, axis: {y: {padding: {top: 0, bottom: 0}, tick: {}, label: {text: 'y_label', position: 'outer-middle'}, show: true}, x: {padding: {}, tick: {}, type: 'indexed', label: {text: 'x_label', position: 'inner-right'}, show: true}, y2: {padding: {top: 0, bottom: 0}, tick: {}, label: {}, show: false}}});\n",
       "            });\n",
       "        </script>"
      ],
      "text/plain": [
       "<IPython.core.display.HTML object>"
      ]
     },
     "execution_count": 17,
     "metadata": {},
     "output_type": "execute_result"
    }
   ],
   "source": [
    "axis_label_chart = c3py.Chart('axis_label_chart')\n",
    "\n",
    "axis_label_chart.data.line(x=[1, 2, 3, 4, 5], y=[10, 40, 20, 30, 50], label='line')\n",
    "\n",
    "axis_label_chart.axes.y_axis.label.set('y_label')\n",
    "axis_label_chart.axes.x_axis.label.set('x_label', label_position='inner-right')\n",
    "\n",
    "HTML(axis_label_chart.get_html_string())"
   ]
  },
  {
   "cell_type": "markdown",
   "metadata": {},
   "source": [
    "<h3>X axis height</h3>"
   ]
  },
  {
   "cell_type": "code",
   "execution_count": 18,
   "metadata": {
    "collapsed": false
   },
   "outputs": [
    {
     "data": {
      "text/html": [
       "<div id=\"axis_height_chart\"></div>\n",
       "<link href=\"https://cdnjs.cloudflare.com/ajax/libs/c3/0.4.10/c3.min.css\" type=\"text/css\" rel=\"stylesheet\"></link>\n",
       "<script src=\"http://ajax.googleapis.com/ajax/libs/jquery/1.11.2/jquery.min.js\"></script>\n",
       "<script src=\"https://cdnjs.cloudflare.com/ajax/libs/require.js/2.1.17/require.min.js\"></script>\n",
       "<style></style>\n",
       "<script type=\"text/javascript\">\n",
       "            require.config({\"paths\": {\"c3\": \"https://cdnjs.cloudflare.com/ajax/libs/c3/0.4.10/c3.min\", \"d3\": \"http://d3js.org/d3.v3.min\"}});\n",
       "\n",
       "            require([\"d3\", \"c3\"], function(d3, c3) {\n",
       "                var chart = c3.generate({bindto: '#axis_height_chart', regions: [], padding: {}, grid: {y: {lines: [], show: false}, x: {lines: [], show: false}}, point: {}, size: {}, data: {axes: {bar: 'y'}, labels: {format: {}}, colors: {}, columns: [['xbar', 1, 2, 3, 4, 5], ['bar', 10, 40, 20, 30, 50]], groups: [], xs: {'bar': 'xbar'}, types: {bar: 'bar'}}, legend: {position: 'bottom', hide: false, show: true}, tooltip: {grouped: true, format: {}, show: true}, axis: {y: {padding: {top: 0, bottom: 0}, tick: {}, label: {}, show: true}, x: {show: true, label: {}, height: 120, padding: {}, tick: {}, type: 'indexed'}, y2: {padding: {top: 0, bottom: 0}, tick: {}, label: {}, show: false}}});\n",
       "            });\n",
       "        </script>"
      ],
      "text/plain": [
       "<IPython.core.display.HTML object>"
      ]
     },
     "execution_count": 18,
     "metadata": {},
     "output_type": "execute_result"
    }
   ],
   "source": [
    "axis_height_chart = c3py.Chart('axis_height_chart')\n",
    "\n",
    "axis_height_chart.data.bar(x=[1, 2, 3, 4, 5], y=[10, 40, 20, 30, 50], label='bar')\n",
    "\n",
    "# x axis height is in pixels\n",
    "axis_height_chart.axes.x_axis.set_height(120)\n",
    "\n",
    "HTML(axis_height_chart.get_html_string())"
   ]
  },
  {
   "cell_type": "markdown",
   "metadata": {},
   "source": [
    "<h3>Axis ticks</h3>"
   ]
  },
  {
   "cell_type": "markdown",
   "metadata": {},
   "source": [
    "<h4>Tick format</h4>"
   ]
  },
  {
   "cell_type": "markdown",
   "metadata": {},
   "source": [
    "For formatting of numbers, see https://github.com/mbostock/d3/wiki/Formatting.\n",
    "<br />\n",
    "For formatting of times, see https://github.com/mbostock/d3/wiki/Time-Formatting."
   ]
  },
  {
   "cell_type": "code",
   "execution_count": 19,
   "metadata": {
    "collapsed": false
   },
   "outputs": [
    {
     "data": {
      "text/html": [
       "<div id=\"tick_format_chart\"></div>\n",
       "<link href=\"https://cdnjs.cloudflare.com/ajax/libs/c3/0.4.10/c3.min.css\" type=\"text/css\" rel=\"stylesheet\"></link>\n",
       "<script src=\"http://ajax.googleapis.com/ajax/libs/jquery/1.11.2/jquery.min.js\"></script>\n",
       "<script src=\"https://cdnjs.cloudflare.com/ajax/libs/require.js/2.1.17/require.min.js\"></script>\n",
       "<style></style>\n",
       "<script type=\"text/javascript\">\n",
       "            require.config({\"paths\": {\"c3\": \"https://cdnjs.cloudflare.com/ajax/libs/c3/0.4.10/c3.min\", \"d3\": \"http://d3js.org/d3.v3.min\"}});\n",
       "\n",
       "            require([\"d3\", \"c3\"], function(d3, c3) {\n",
       "                var chart = c3.generate({bindto: '#tick_format_chart', regions: [], padding: {}, grid: {y: {lines: [], show: false}, x: {lines: [], show: false}}, point: {}, size: {}, data: {axes: {line_timeseries: 'y'}, labels: {format: {}}, colors: {}, columns: [['xline_timeseries', '2000-01-01', '2000-01-02', '2000-01-03', '2000-01-04', '2000-01-05'], ['line_timeseries', 10, 40, 20, 30, 50]], groups: [], xs: {'line_timeseries': 'xline_timeseries'}, types: {line_timeseries: 'line'}}, legend: {position: 'bottom', hide: false, show: true}, tooltip: {grouped: true, format: {}, show: true}, axis: {y: {padding: {top: 0, bottom: 0}, tick: {format: d3.format('$,')}, label: {}, show: true}, x: {padding: {}, tick: {format: d3.time.format('%A %d %B %Y')}, type: 'timeseries', label: {}, show: true}, y2: {padding: {top: 0, bottom: 0}, tick: {}, label: {}, show: false}}});\n",
       "            });\n",
       "        </script>"
      ],
      "text/plain": [
       "<IPython.core.display.HTML object>"
      ]
     },
     "execution_count": 19,
     "metadata": {},
     "output_type": "execute_result"
    }
   ],
   "source": [
    "tick_format_chart = c3py.Chart('tick_format_chart')\n",
    "\n",
    "tick_format_chart.axes.x_axis.set_type('timeseries')\n",
    "\n",
    "tick_format_chart.data.line(x=['2000-01-01', '2000-01-02', '2000-01-03', '2000-01-04', '2000-01-05'], y=[10, 40, 20, 30, 50], label='line_timeseries')\n",
    "\n",
    "tick_format_chart.axes.x_axis.ticks.set_format('%A %d %B %Y')\n",
    "tick_format_chart.axes.y_axis.ticks.set_format('$,')\n",
    "\n",
    "HTML(tick_format_chart.get_html_string())"
   ]
  },
  {
   "cell_type": "markdown",
   "metadata": {},
   "source": [
    "<h4>Tick count</h4>"
   ]
  },
  {
   "cell_type": "code",
   "execution_count": 20,
   "metadata": {
    "collapsed": false
   },
   "outputs": [
    {
     "data": {
      "text/html": [
       "<div id=\"tick_count_chart\"></div>\n",
       "<link href=\"https://cdnjs.cloudflare.com/ajax/libs/c3/0.4.10/c3.min.css\" type=\"text/css\" rel=\"stylesheet\"></link>\n",
       "<script src=\"http://ajax.googleapis.com/ajax/libs/jquery/1.11.2/jquery.min.js\"></script>\n",
       "<script src=\"https://cdnjs.cloudflare.com/ajax/libs/require.js/2.1.17/require.min.js\"></script>\n",
       "<style></style>\n",
       "<script type=\"text/javascript\">\n",
       "            require.config({\"paths\": {\"c3\": \"https://cdnjs.cloudflare.com/ajax/libs/c3/0.4.10/c3.min\", \"d3\": \"http://d3js.org/d3.v3.min\"}});\n",
       "\n",
       "            require([\"d3\", \"c3\"], function(d3, c3) {\n",
       "                var chart = c3.generate({bindto: '#tick_count_chart', regions: [], padding: {}, grid: {y: {lines: [], show: false}, x: {lines: [], show: false}}, point: {}, size: {}, data: {axes: {line: 'y'}, labels: {format: {}}, colors: {}, columns: [['xline', 1, 2, 3, 4, 5], ['line', 10, 40, 20, 30, 50]], groups: [], xs: {'line': 'xline'}, types: {line: 'line'}}, legend: {position: 'bottom', hide: false, show: true}, tooltip: {grouped: true, format: {}, show: true}, axis: {y: {padding: {top: 0, bottom: 0}, tick: {count: 3}, label: {}, show: true}, x: {padding: {}, tick: {count: 9}, type: 'indexed', label: {}, show: true}, y2: {padding: {top: 0, bottom: 0}, tick: {}, label: {}, show: false}}});\n",
       "            });\n",
       "        </script>"
      ],
      "text/plain": [
       "<IPython.core.display.HTML object>"
      ]
     },
     "execution_count": 20,
     "metadata": {},
     "output_type": "execute_result"
    }
   ],
   "source": [
    "tick_count_chart = c3py.Chart('tick_count_chart')\n",
    "\n",
    "tick_count_chart.data.line(x=[1, 2, 3, 4, 5], y=[10, 40, 20, 30, 50], label='line')\n",
    "\n",
    "tick_count_chart.axes.y_axis.ticks.set_count(3)\n",
    "tick_count_chart.axes.x_axis.ticks.set_count(9)\n",
    "\n",
    "HTML(tick_count_chart.get_html_string())"
   ]
  },
  {
   "cell_type": "markdown",
   "metadata": {},
   "source": [
    "<h4>Tick values</h4>"
   ]
  },
  {
   "cell_type": "code",
   "execution_count": 21,
   "metadata": {
    "collapsed": false
   },
   "outputs": [
    {
     "data": {
      "text/html": [
       "<div id=\"tick_values_chart\"></div>\n",
       "<link href=\"https://cdnjs.cloudflare.com/ajax/libs/c3/0.4.10/c3.min.css\" type=\"text/css\" rel=\"stylesheet\"></link>\n",
       "<script src=\"http://ajax.googleapis.com/ajax/libs/jquery/1.11.2/jquery.min.js\"></script>\n",
       "<script src=\"https://cdnjs.cloudflare.com/ajax/libs/require.js/2.1.17/require.min.js\"></script>\n",
       "<style></style>\n",
       "<script type=\"text/javascript\">\n",
       "            require.config({\"paths\": {\"c3\": \"https://cdnjs.cloudflare.com/ajax/libs/c3/0.4.10/c3.min\", \"d3\": \"http://d3js.org/d3.v3.min\"}});\n",
       "\n",
       "            require([\"d3\", \"c3\"], function(d3, c3) {\n",
       "                var chart = c3.generate({bindto: '#tick_values_chart', regions: [], padding: {}, grid: {y: {lines: [], show: false}, x: {lines: [], show: false}}, point: {}, size: {}, data: {axes: {line: 'y'}, labels: {format: {}}, colors: {}, columns: [['xline', 1, 2, 3, 4, 5], ['line', 10, 40, 20, 30, 50]], groups: [], xs: {'line': 'xline'}, types: {line: 'line'}}, legend: {position: 'bottom', hide: false, show: true}, tooltip: {grouped: true, format: {}, show: true}, axis: {y: {padding: {top: 0, bottom: 0}, tick: {values: [15, 25, 45]}, label: {}, show: true}, x: {padding: {}, tick: {values: [1, 1.5, 2, 4, 5]}, type: 'indexed', label: {}, show: true}, y2: {padding: {top: 0, bottom: 0}, tick: {}, label: {}, show: false}}});\n",
       "            });\n",
       "        </script>"
      ],
      "text/plain": [
       "<IPython.core.display.HTML object>"
      ]
     },
     "execution_count": 21,
     "metadata": {},
     "output_type": "execute_result"
    }
   ],
   "source": [
    "tick_values_chart = c3py.Chart('tick_values_chart')\n",
    "\n",
    "tick_values_chart.data.line(x=[1, 2, 3, 4, 5], y=[10, 40, 20, 30, 50], label='line')\n",
    "\n",
    "tick_values_chart.axes.y_axis.ticks.set_values([15, 25, 45])\n",
    "tick_values_chart.axes.x_axis.ticks.set_values([1, 1.5, 2, 4, 5])\n",
    "\n",
    "HTML(tick_values_chart.get_html_string())"
   ]
  },
  {
   "cell_type": "markdown",
   "metadata": {},
   "source": [
    "<h4>X tick culling</h4>"
   ]
  },
  {
   "cell_type": "code",
   "execution_count": 22,
   "metadata": {
    "collapsed": false
   },
   "outputs": [
    {
     "data": {
      "text/html": [
       "<div id=\"tick_culling_chart\"></div>\n",
       "<link href=\"https://cdnjs.cloudflare.com/ajax/libs/c3/0.4.10/c3.min.css\" type=\"text/css\" rel=\"stylesheet\"></link>\n",
       "<script src=\"http://ajax.googleapis.com/ajax/libs/jquery/1.11.2/jquery.min.js\"></script>\n",
       "<script src=\"https://cdnjs.cloudflare.com/ajax/libs/require.js/2.1.17/require.min.js\"></script>\n",
       "<style></style>\n",
       "<script type=\"text/javascript\">\n",
       "            require.config({\"paths\": {\"c3\": \"https://cdnjs.cloudflare.com/ajax/libs/c3/0.4.10/c3.min\", \"d3\": \"http://d3js.org/d3.v3.min\"}});\n",
       "\n",
       "            require([\"d3\", \"c3\"], function(d3, c3) {\n",
       "                var chart = c3.generate({bindto: '#tick_culling_chart', regions: [], padding: {}, grid: {y: {lines: [], show: false}, x: {lines: [], show: false}}, point: {}, size: {}, data: {axes: {line: 'y'}, labels: {format: {}}, colors: {}, columns: [['xline', 1, 2, 3, 4, 5], ['line', 10, 40, 20, 30, 50]], groups: [], xs: {'line': 'xline'}, types: {line: 'bar'}}, legend: {position: 'bottom', hide: false, show: true}, tooltip: {grouped: true, format: {}, show: true}, axis: {y: {padding: {top: 0, bottom: 0}, tick: {}, label: {}, show: true}, x: {padding: {}, tick: {culling: {max: 3}}, type: 'indexed', label: {}, show: true}, y2: {padding: {top: 0, bottom: 0}, tick: {}, label: {}, show: false}}});\n",
       "            });\n",
       "        </script>"
      ],
      "text/plain": [
       "<IPython.core.display.HTML object>"
      ]
     },
     "execution_count": 22,
     "metadata": {},
     "output_type": "execute_result"
    }
   ],
   "source": [
    "tick_culling_chart = c3py.Chart('tick_culling_chart')\n",
    "\n",
    "tick_culling_chart.data.bar(x=[1, 2, 3, 4, 5], y=[10, 40, 20, 30, 50], label='line')\n",
    "\n",
    "tick_culling_chart.axes.x_axis.ticks.cull(max_ticks=3)\n",
    "\n",
    "HTML(tick_culling_chart.get_html_string())"
   ]
  },
  {
   "cell_type": "markdown",
   "metadata": {},
   "source": [
    "<h4>X tick multiline and rotation</h4>"
   ]
  },
  {
   "cell_type": "code",
   "execution_count": 23,
   "metadata": {
    "collapsed": false
   },
   "outputs": [
    {
     "data": {
      "text/html": [
       "<div id=\"tick_multiline_chart\"></div>\n",
       "<link href=\"https://cdnjs.cloudflare.com/ajax/libs/c3/0.4.10/c3.min.css\" type=\"text/css\" rel=\"stylesheet\"></link>\n",
       "<script src=\"http://ajax.googleapis.com/ajax/libs/jquery/1.11.2/jquery.min.js\"></script>\n",
       "<script src=\"https://cdnjs.cloudflare.com/ajax/libs/require.js/2.1.17/require.min.js\"></script>\n",
       "<style></style>\n",
       "<script type=\"text/javascript\">\n",
       "            require.config({\"paths\": {\"c3\": \"https://cdnjs.cloudflare.com/ajax/libs/c3/0.4.10/c3.min\", \"d3\": \"http://d3js.org/d3.v3.min\"}});\n",
       "\n",
       "            require([\"d3\", \"c3\"], function(d3, c3) {\n",
       "                var chart = c3.generate({bindto: '#tick_multiline_chart', regions: [], padding: {}, grid: {y: {lines: [], show: false}, x: {lines: [], show: false}}, point: {}, size: {}, data: {axes: {bar_category: 'y'}, labels: {format: {}}, colors: {}, columns: [['xbar_category', 'longstringsnormallyoccupymultiplelines_1', 'longstringsnormallyoccupymultiplelines_2', 'longstringsnormallyoccupymultiplelines_3', 'longstringsnormallyoccupymultiplelines_4', 'longstringsnormallyoccupymultiplelines_5'], ['bar_category', 10, 40, 20, 30, 50]], groups: [], xs: {'bar_category': 'xbar_category'}, types: {bar_category: 'bar'}}, legend: {position: 'bottom', hide: false, show: true}, tooltip: {grouped: true, format: {}, show: true}, axis: {y: {padding: {top: 0, bottom: 0}, tick: {}, label: {}, show: true}, x: {padding: {}, tick: {rotate: 90, multiline: false}, type: 'category', label: {}, show: true}, y2: {padding: {top: 0, bottom: 0}, tick: {}, label: {}, show: false}}});\n",
       "            });\n",
       "        </script>"
      ],
      "text/plain": [
       "<IPython.core.display.HTML object>"
      ]
     },
     "execution_count": 23,
     "metadata": {},
     "output_type": "execute_result"
    }
   ],
   "source": [
    "tick_multiline_chart = c3py.Chart('tick_multiline_chart')\n",
    "\n",
    "tick_multiline_chart.axes.x_axis.set_type('category')\n",
    "\n",
    "tick_multiline_chart.data.bar(x=['longstringsnormallyoccupymultiplelines_' + str(i) for i in range(1, 6)], y=[10, 40, 20, 30, 50], label='bar_category')\n",
    "\n",
    "tick_multiline_chart.axes.x_axis.ticks.set_multiline(False)\n",
    "tick_multiline_chart.axes.x_axis.ticks.rotate(90)\n",
    "\n",
    "HTML(tick_multiline_chart.get_html_string())"
   ]
  },
  {
   "cell_type": "markdown",
   "metadata": {},
   "source": [
    "<h4>X tick fitting</h4>"
   ]
  },
  {
   "cell_type": "code",
   "execution_count": 24,
   "metadata": {
    "collapsed": false
   },
   "outputs": [
    {
     "data": {
      "text/html": [
       "<div id=\"tick_fitting_chart\"></div>\n",
       "<link href=\"https://cdnjs.cloudflare.com/ajax/libs/c3/0.4.10/c3.min.css\" type=\"text/css\" rel=\"stylesheet\"></link>\n",
       "<script src=\"http://ajax.googleapis.com/ajax/libs/jquery/1.11.2/jquery.min.js\"></script>\n",
       "<script src=\"https://cdnjs.cloudflare.com/ajax/libs/require.js/2.1.17/require.min.js\"></script>\n",
       "<style></style>\n",
       "<script type=\"text/javascript\">\n",
       "            require.config({\"paths\": {\"c3\": \"https://cdnjs.cloudflare.com/ajax/libs/c3/0.4.10/c3.min\", \"d3\": \"http://d3js.org/d3.v3.min\"}});\n",
       "\n",
       "            require([\"d3\", \"c3\"], function(d3, c3) {\n",
       "                var chart = c3.generate({bindto: '#tick_fitting_chart', regions: [], padding: {}, grid: {y: {lines: [], show: false}, x: {lines: [], show: false}}, point: {}, size: {}, data: {axes: {line_timeseries: 'y'}, labels: {format: {}}, colors: {}, columns: [['xline_timeseries', '2000-01-01', '2000-02-01', '2000-02-02', '2000-02-03', '2000-02-04'], ['line_timeseries', 10, 40, 20, 30, 50]], groups: [], xs: {'line_timeseries': 'xline_timeseries'}, types: {line_timeseries: 'line'}}, legend: {position: 'bottom', hide: false, show: true}, tooltip: {grouped: true, format: {}, show: true}, axis: {y: {padding: {top: 0, bottom: 0}, tick: {}, label: {}, show: true}, x: {padding: {}, tick: {fit: false, format: d3.time.format('%Y-%m-%d')}, type: 'timeseries', label: {}, show: true}, y2: {padding: {top: 0, bottom: 0}, tick: {}, label: {}, show: false}}});\n",
       "            });\n",
       "        </script>"
      ],
      "text/plain": [
       "<IPython.core.display.HTML object>"
      ]
     },
     "execution_count": 24,
     "metadata": {},
     "output_type": "execute_result"
    }
   ],
   "source": [
    "tick_fitting_chart = c3py.Chart('tick_fitting_chart')\n",
    "\n",
    "tick_fitting_chart.axes.x_axis.set_type('timeseries')\n",
    "\n",
    "tick_fitting_chart.data.line(x=['2000-01-01', '2000-02-01', '2000-02-02', '2000-02-03', '2000-02-04'], y=[10, 40, 20, 30, 50], label='line_timeseries')\n",
    "\n",
    "tick_fitting_chart.axes.x_axis.ticks.set_fit(False)\n",
    "\n",
    "HTML(tick_fitting_chart.get_html_string())"
   ]
  },
  {
   "cell_type": "markdown",
   "metadata": {},
   "source": [
    "<h3>Secondary y axis</h3>"
   ]
  },
  {
   "cell_type": "code",
   "execution_count": 25,
   "metadata": {
    "collapsed": false
   },
   "outputs": [
    {
     "data": {
      "text/html": [
       "<div id=\"secondary_axis_chart\"></div>\n",
       "<link href=\"https://cdnjs.cloudflare.com/ajax/libs/c3/0.4.10/c3.min.css\" type=\"text/css\" rel=\"stylesheet\"></link>\n",
       "<script src=\"http://ajax.googleapis.com/ajax/libs/jquery/1.11.2/jquery.min.js\"></script>\n",
       "<script src=\"https://cdnjs.cloudflare.com/ajax/libs/require.js/2.1.17/require.min.js\"></script>\n",
       "<style></style>\n",
       "<script type=\"text/javascript\">\n",
       "            require.config({\"paths\": {\"c3\": \"https://cdnjs.cloudflare.com/ajax/libs/c3/0.4.10/c3.min\", \"d3\": \"http://d3js.org/d3.v3.min\"}});\n",
       "\n",
       "            require([\"d3\", \"c3\"], function(d3, c3) {\n",
       "                var chart = c3.generate({bindto: '#secondary_axis_chart', regions: [], padding: {}, grid: {y: {lines: [], show: false}, x: {lines: [], show: false}}, point: {}, size: {}, data: {axes: {primary_y_axis: 'y', secondary_y_axis: 'y2'}, labels: {format: {}}, colors: {}, columns: [['xprimary_y_axis', 1, 2, 3, 4, 5], ['primary_y_axis', 10, 40, 20, 30, 50], ['xsecondary_y_axis', 1, 2, 3, 4, 5], ['secondary_y_axis', 5, 3, 2, 4, 1]], groups: [], xs: {'primary_y_axis': 'xprimary_y_axis', 'secondary_y_axis': 'xsecondary_y_axis'}, types: {primary_y_axis: 'bar', secondary_y_axis: 'line'}}, legend: {position: 'bottom', hide: false, show: true}, tooltip: {grouped: true, format: {}, show: true}, axis: {y: {padding: {top: 0, bottom: 0}, tick: {}, label: {}, show: true}, x: {padding: {}, tick: {}, type: 'indexed', label: {}, show: true}, y2: {min: -10, max: 10, show: true, label: {}, padding: {top: 0, bottom: 0}, tick: {format: d3.format('.2f')}}}});\n",
       "            });\n",
       "        </script>"
      ],
      "text/plain": [
       "<IPython.core.display.HTML object>"
      ]
     },
     "execution_count": 25,
     "metadata": {},
     "output_type": "execute_result"
    }
   ],
   "source": [
    "secondary_axis_chart = c3py.Chart('secondary_axis_chart')\n",
    "\n",
    "secondary_axis_chart.axes.add_secondary_y()\n",
    "\n",
    "secondary_axis_chart.data.bar(x=[1, 2, 3, 4, 5], y=[10, 40, 20, 30, 50], label='primary_y_axis', axis='y')\n",
    "secondary_axis_chart.data.line(x=[1, 2, 3, 4, 5], y=[5, 3, 2, 4, 1], label='secondary_y_axis', axis='y2')\n",
    "\n",
    "secondary_axis_chart.axes.y2_axis.set_range(-10, 10)\n",
    "secondary_axis_chart.axes.y2_axis.ticks.set_format('.2f')\n",
    "\n",
    "HTML(secondary_axis_chart.get_html_string())"
   ]
  },
  {
   "cell_type": "markdown",
   "metadata": {},
   "source": [
    "<h2>Grid</h2>"
   ]
  },
  {
   "cell_type": "markdown",
   "metadata": {},
   "source": [
    "<h3>Grid visibility</h3>"
   ]
  },
  {
   "cell_type": "code",
   "execution_count": 26,
   "metadata": {
    "collapsed": false
   },
   "outputs": [
    {
     "data": {
      "text/html": [
       "<div id=\"grid_visibility_chart\"></div>\n",
       "<link href=\"https://cdnjs.cloudflare.com/ajax/libs/c3/0.4.10/c3.min.css\" type=\"text/css\" rel=\"stylesheet\"></link>\n",
       "<script src=\"http://ajax.googleapis.com/ajax/libs/jquery/1.11.2/jquery.min.js\"></script>\n",
       "<script src=\"https://cdnjs.cloudflare.com/ajax/libs/require.js/2.1.17/require.min.js\"></script>\n",
       "<style></style>\n",
       "<script type=\"text/javascript\">\n",
       "            require.config({\"paths\": {\"c3\": \"https://cdnjs.cloudflare.com/ajax/libs/c3/0.4.10/c3.min\", \"d3\": \"http://d3js.org/d3.v3.min\"}});\n",
       "\n",
       "            require([\"d3\", \"c3\"], function(d3, c3) {\n",
       "                var chart = c3.generate({bindto: '#grid_visibility_chart', regions: [], padding: {}, grid: {y: {lines: [], show: true}, x: {lines: [], show: false}}, point: {}, size: {}, data: {axes: {bar: 'y'}, labels: {format: {}}, colors: {}, columns: [['xbar', 1, 2, 3, 4, 5], ['bar', 10, 40, 20, 30, 50]], groups: [], xs: {'bar': 'xbar'}, types: {bar: 'bar'}}, legend: {position: 'bottom', hide: false, show: true}, tooltip: {grouped: true, format: {}, show: true}, axis: {y: {padding: {top: 0, bottom: 0}, tick: {}, label: {}, show: true}, x: {padding: {}, tick: {}, type: 'indexed', label: {}, show: true}, y2: {padding: {top: 0, bottom: 0}, tick: {}, label: {}, show: false}}});\n",
       "            });\n",
       "        </script>"
      ],
      "text/plain": [
       "<IPython.core.display.HTML object>"
      ]
     },
     "execution_count": 26,
     "metadata": {},
     "output_type": "execute_result"
    }
   ],
   "source": [
    "grid_visibility_chart = c3py.Chart('grid_visibility_chart')\n",
    "\n",
    "grid_visibility_chart.data.bar(x=[1, 2, 3, 4, 5], y=[10, 40, 20, 30, 50], label='bar')\n",
    "\n",
    "grid_visibility_chart.grid.show(x=False, y=True)\n",
    "\n",
    "HTML(grid_visibility_chart.get_html_string())"
   ]
  },
  {
   "cell_type": "markdown",
   "metadata": {},
   "source": [
    "<h3>Custom grid lines</h3>"
   ]
  },
  {
   "cell_type": "code",
   "execution_count": 27,
   "metadata": {
    "collapsed": false
   },
   "outputs": [
    {
     "data": {
      "text/html": [
       "<div id=\"grid_line_chart\"></div>\n",
       "<link href=\"https://cdnjs.cloudflare.com/ajax/libs/c3/0.4.10/c3.min.css\" type=\"text/css\" rel=\"stylesheet\"></link>\n",
       "<script src=\"http://ajax.googleapis.com/ajax/libs/jquery/1.11.2/jquery.min.js\"></script>\n",
       "<script src=\"https://cdnjs.cloudflare.com/ajax/libs/require.js/2.1.17/require.min.js\"></script>\n",
       "<style></style>\n",
       "<script type=\"text/javascript\">\n",
       "            require.config({\"paths\": {\"c3\": \"https://cdnjs.cloudflare.com/ajax/libs/c3/0.4.10/c3.min\", \"d3\": \"http://d3js.org/d3.v3.min\"}});\n",
       "\n",
       "            require([\"d3\", \"c3\"], function(d3, c3) {\n",
       "                var chart = c3.generate({bindto: '#grid_line_chart', regions: [], padding: {}, grid: {y: {lines: [{text: 'y_grid_line', axis: 'y', value: 15, position: 'start'}], show: false}, x: {lines: [{text: 'x_grid_line', axis: 'x', value: 2.5, position: 'end'}], show: false}}, point: {}, size: {}, data: {axes: {line: 'y'}, labels: {format: {}}, colors: {}, columns: [['xline', 1, 2, 3, 4, 5], ['line', 10, 40, 20, 30, 50]], groups: [], xs: {'line': 'xline'}, types: {line: 'line'}}, legend: {position: 'bottom', hide: false, show: true}, tooltip: {grouped: true, format: {}, show: true}, axis: {y: {padding: {top: 0, bottom: 0}, tick: {}, label: {}, show: true}, x: {padding: {}, tick: {}, type: 'indexed', label: {}, show: true}, y2: {padding: {top: 0, bottom: 0}, tick: {}, label: {}, show: false}}});\n",
       "            });\n",
       "        </script>"
      ],
      "text/plain": [
       "<IPython.core.display.HTML object>"
      ]
     },
     "execution_count": 27,
     "metadata": {},
     "output_type": "execute_result"
    }
   ],
   "source": [
    "grid_line_chart = c3py.Chart('grid_line_chart')\n",
    "\n",
    "grid_line_chart.data.line(x=[1, 2, 3, 4, 5], y=[10, 40, 20, 30, 50], label='line')\n",
    "\n",
    "grid_line_chart.grid.custom_grid_line(axis='x', value=2.5, label='x_grid_line')\n",
    "grid_line_chart.grid.custom_grid_line(axis='y', value=15, label='y_grid_line', label_position='start')\n",
    "\n",
    "HTML(grid_line_chart.get_html_string())"
   ]
  },
  {
   "cell_type": "markdown",
   "metadata": {},
   "source": [
    "<h2>Legend</h2>"
   ]
  },
  {
   "cell_type": "markdown",
   "metadata": {},
   "source": [
    "<h3>Legend visibility</h3>"
   ]
  },
  {
   "cell_type": "code",
   "execution_count": 28,
   "metadata": {
    "collapsed": false
   },
   "outputs": [
    {
     "data": {
      "text/html": [
       "<div id=\"legend_visibility_chart\"></div>\n",
       "<link href=\"https://cdnjs.cloudflare.com/ajax/libs/c3/0.4.10/c3.min.css\" type=\"text/css\" rel=\"stylesheet\"></link>\n",
       "<script src=\"http://ajax.googleapis.com/ajax/libs/jquery/1.11.2/jquery.min.js\"></script>\n",
       "<script src=\"https://cdnjs.cloudflare.com/ajax/libs/require.js/2.1.17/require.min.js\"></script>\n",
       "<style></style>\n",
       "<script type=\"text/javascript\">\n",
       "            require.config({\"paths\": {\"c3\": \"https://cdnjs.cloudflare.com/ajax/libs/c3/0.4.10/c3.min\", \"d3\": \"http://d3js.org/d3.v3.min\"}});\n",
       "\n",
       "            require([\"d3\", \"c3\"], function(d3, c3) {\n",
       "                var chart = c3.generate({bindto: '#legend_visibility_chart', regions: [], padding: {}, grid: {y: {lines: [], show: false}, x: {lines: [], show: false}}, point: {}, size: {}, data: {axes: {bar: 'y'}, labels: {format: {}}, colors: {}, columns: [['xbar', 1, 2, 3, 4, 5], ['bar', 10, 40, 20, 30, 50]], groups: [], xs: {'bar': 'xbar'}, types: {bar: 'bar'}}, legend: {position: 'bottom', hide: true, show: false}, tooltip: {grouped: true, format: {}, show: true}, axis: {y: {padding: {top: 0, bottom: 0}, tick: {}, label: {}, show: true}, x: {padding: {}, tick: {}, type: 'indexed', label: {}, show: true}, y2: {padding: {top: 0, bottom: 0}, tick: {}, label: {}, show: false}}});\n",
       "            });\n",
       "        </script>"
      ],
      "text/plain": [
       "<IPython.core.display.HTML object>"
      ]
     },
     "execution_count": 28,
     "metadata": {},
     "output_type": "execute_result"
    }
   ],
   "source": [
    "legend_visibility_chart = c3py.Chart('legend_visibility_chart')\n",
    "\n",
    "legend_visibility_chart.data.bar(x=[1, 2, 3, 4, 5], y=[10, 40, 20, 30, 50], label='bar')\n",
    "\n",
    "legend_visibility_chart.legend.hide()\n",
    "\n",
    "HTML(legend_visibility_chart.get_html_string())"
   ]
  },
  {
   "cell_type": "markdown",
   "metadata": {},
   "source": [
    "<h3>Series visibility</h3>"
   ]
  },
  {
   "cell_type": "code",
   "execution_count": 29,
   "metadata": {
    "collapsed": false
   },
   "outputs": [
    {
     "data": {
      "text/html": [
       "<div id=\"legend_series_visibility_chart\"></div>\n",
       "<link href=\"https://cdnjs.cloudflare.com/ajax/libs/c3/0.4.10/c3.min.css\" type=\"text/css\" rel=\"stylesheet\"></link>\n",
       "<script src=\"http://ajax.googleapis.com/ajax/libs/jquery/1.11.2/jquery.min.js\"></script>\n",
       "<script src=\"https://cdnjs.cloudflare.com/ajax/libs/require.js/2.1.17/require.min.js\"></script>\n",
       "<style></style>\n",
       "<script type=\"text/javascript\">\n",
       "            require.config({\"paths\": {\"c3\": \"https://cdnjs.cloudflare.com/ajax/libs/c3/0.4.10/c3.min\", \"d3\": \"http://d3js.org/d3.v3.min\"}});\n",
       "\n",
       "            require([\"d3\", \"c3\"], function(d3, c3) {\n",
       "                var chart = c3.generate({bindto: '#legend_series_visibility_chart', regions: [], padding: {}, grid: {y: {lines: [], show: false}, x: {lines: [], show: false}}, point: {}, size: {}, data: {axes: {line: 'y', bar: 'y'}, labels: {format: {}}, colors: {}, columns: [['xbar', 1, 2, 3, 4, 5], ['bar', 10, 40, 20, 30, 50], ['xline', 1, 2, 3, 4, 5], ['line', 10, 40, 20, 30, 50]], groups: [], xs: {'bar': 'xbar', 'line': 'xline'}, types: {line: 'line', bar: 'bar'}}, legend: {position: 'bottom', hide: ['line'], show: true}, tooltip: {grouped: true, format: {}, show: true}, axis: {y: {padding: {top: 0, bottom: 0}, tick: {}, label: {}, show: true}, x: {padding: {}, tick: {}, type: 'indexed', label: {}, show: true}, y2: {padding: {top: 0, bottom: 0}, tick: {}, label: {}, show: false}}});\n",
       "            });\n",
       "        </script>"
      ],
      "text/plain": [
       "<IPython.core.display.HTML object>"
      ]
     },
     "execution_count": 29,
     "metadata": {},
     "output_type": "execute_result"
    }
   ],
   "source": [
    "legend_series_visibility_chart = c3py.Chart('legend_series_visibility_chart')\n",
    "\n",
    "legend_series_visibility_chart.data.bar(x=[1, 2, 3, 4, 5], y=[10, 40, 20, 30, 50], label='bar')\n",
    "legend_series_visibility_chart.data.line(x=[1, 2, 3, 4, 5], y=[10, 40, 20, 30, 50], label='line')\n",
    "\n",
    "legend_series_visibility_chart.legend.hide_series(['line'])\n",
    "\n",
    "HTML(legend_series_visibility_chart.get_html_string())"
   ]
  },
  {
   "cell_type": "markdown",
   "metadata": {},
   "source": [
    "<h3>Legend position</h3>"
   ]
  },
  {
   "cell_type": "code",
   "execution_count": 30,
   "metadata": {
    "collapsed": false
   },
   "outputs": [
    {
     "data": {
      "text/html": [
       "<div id=\"legend_position_chart\"></div>\n",
       "<link href=\"https://cdnjs.cloudflare.com/ajax/libs/c3/0.4.10/c3.min.css\" type=\"text/css\" rel=\"stylesheet\"></link>\n",
       "<script src=\"http://ajax.googleapis.com/ajax/libs/jquery/1.11.2/jquery.min.js\"></script>\n",
       "<script src=\"https://cdnjs.cloudflare.com/ajax/libs/require.js/2.1.17/require.min.js\"></script>\n",
       "<style></style>\n",
       "<script type=\"text/javascript\">\n",
       "            require.config({\"paths\": {\"c3\": \"https://cdnjs.cloudflare.com/ajax/libs/c3/0.4.10/c3.min\", \"d3\": \"http://d3js.org/d3.v3.min\"}});\n",
       "\n",
       "            require([\"d3\", \"c3\"], function(d3, c3) {\n",
       "                var chart = c3.generate({bindto: '#legend_position_chart', regions: [], padding: {}, grid: {y: {lines: [], show: false}, x: {lines: [], show: false}}, point: {}, size: {}, data: {axes: {line: 'y', bar: 'y'}, labels: {format: {}}, colors: {}, columns: [['xbar', 1, 2, 3, 4, 5], ['bar', 10, 40, 20, 30, 50], ['xline', 1, 2, 3, 4, 5], ['line', 10, 40, 20, 30, 50]], groups: [], xs: {'bar': 'xbar', 'line': 'xline'}, types: {line: 'line', bar: 'bar'}}, legend: {position: 'inset', inset: {anchor: 'top-left'}, hide: false, show: true}, tooltip: {grouped: true, format: {}, show: true}, axis: {y: {padding: {top: 0, bottom: 0}, tick: {}, label: {}, show: true}, x: {padding: {}, tick: {}, type: 'indexed', label: {}, show: true}, y2: {padding: {top: 0, bottom: 0}, tick: {}, label: {}, show: false}}});\n",
       "            });\n",
       "        </script>"
      ],
      "text/plain": [
       "<IPython.core.display.HTML object>"
      ]
     },
     "execution_count": 30,
     "metadata": {},
     "output_type": "execute_result"
    }
   ],
   "source": [
    "legend_position_chart = c3py.Chart('legend_position_chart')\n",
    "\n",
    "legend_position_chart.data.bar(x=[1, 2, 3, 4, 5], y=[10, 40, 20, 30, 50], label='bar')\n",
    "legend_position_chart.data.line(x=[1, 2, 3, 4, 5], y=[10, 40, 20, 30, 50], label='line')\n",
    "\n",
    "legend_position_chart.legend.set_position('inset', inset_anchor='top-left')\n",
    "\n",
    "HTML(legend_position_chart.get_html_string())"
   ]
  },
  {
   "cell_type": "markdown",
   "metadata": {},
   "source": [
    "<h2>Tooltip</h2>"
   ]
  },
  {
   "cell_type": "markdown",
   "metadata": {},
   "source": [
    "<h3>Tooltip visibility</h3>"
   ]
  },
  {
   "cell_type": "code",
   "execution_count": 31,
   "metadata": {
    "collapsed": false
   },
   "outputs": [
    {
     "data": {
      "text/html": [
       "<div id=\"tooltip_visibility_chart\"></div>\n",
       "<link href=\"https://cdnjs.cloudflare.com/ajax/libs/c3/0.4.10/c3.min.css\" type=\"text/css\" rel=\"stylesheet\"></link>\n",
       "<script src=\"http://ajax.googleapis.com/ajax/libs/jquery/1.11.2/jquery.min.js\"></script>\n",
       "<script src=\"https://cdnjs.cloudflare.com/ajax/libs/require.js/2.1.17/require.min.js\"></script>\n",
       "<style></style>\n",
       "<script type=\"text/javascript\">\n",
       "            require.config({\"paths\": {\"c3\": \"https://cdnjs.cloudflare.com/ajax/libs/c3/0.4.10/c3.min\", \"d3\": \"http://d3js.org/d3.v3.min\"}});\n",
       "\n",
       "            require([\"d3\", \"c3\"], function(d3, c3) {\n",
       "                var chart = c3.generate({bindto: '#tooltip_visibility_chart', regions: [], padding: {}, grid: {y: {lines: [], show: false}, x: {lines: [], show: false}}, point: {}, size: {}, data: {axes: {line: 'y'}, labels: {format: {}}, colors: {}, columns: [['xline', 1, 2, 3, 4, 5], ['line', 10, 40, 20, 30, 50]], groups: [], xs: {'line': 'xline'}, types: {line: 'line'}}, legend: {position: 'bottom', hide: false, show: true}, tooltip: {grouped: true, format: {}, show: false}, axis: {y: {padding: {top: 0, bottom: 0}, tick: {}, label: {}, show: true}, x: {padding: {}, tick: {}, type: 'indexed', label: {}, show: true}, y2: {padding: {top: 0, bottom: 0}, tick: {}, label: {}, show: false}}});\n",
       "            });\n",
       "        </script>"
      ],
      "text/plain": [
       "<IPython.core.display.HTML object>"
      ]
     },
     "execution_count": 31,
     "metadata": {},
     "output_type": "execute_result"
    }
   ],
   "source": [
    "tooltip_visibility_chart = c3py.Chart('tooltip_visibility_chart')\n",
    "\n",
    "tooltip_visibility_chart.data.line(x=[1, 2, 3, 4, 5], y=[10, 40, 20, 30, 50], label='line')\n",
    "\n",
    "tooltip_visibility_chart.tooltip.hide()\n",
    "\n",
    "HTML(tooltip_visibility_chart.get_html_string())"
   ]
  },
  {
   "cell_type": "markdown",
   "metadata": {},
   "source": [
    "<h3>Tooltip grouping</h3>"
   ]
  },
  {
   "cell_type": "code",
   "execution_count": 32,
   "metadata": {
    "collapsed": false
   },
   "outputs": [
    {
     "data": {
      "text/html": [
       "<div id=\"tooltip_grouping_chart\"></div>\n",
       "<link href=\"https://cdnjs.cloudflare.com/ajax/libs/c3/0.4.10/c3.min.css\" type=\"text/css\" rel=\"stylesheet\"></link>\n",
       "<script src=\"http://ajax.googleapis.com/ajax/libs/jquery/1.11.2/jquery.min.js\"></script>\n",
       "<script src=\"https://cdnjs.cloudflare.com/ajax/libs/require.js/2.1.17/require.min.js\"></script>\n",
       "<style></style>\n",
       "<script type=\"text/javascript\">\n",
       "            require.config({\"paths\": {\"c3\": \"https://cdnjs.cloudflare.com/ajax/libs/c3/0.4.10/c3.min\", \"d3\": \"http://d3js.org/d3.v3.min\"}});\n",
       "\n",
       "            require([\"d3\", \"c3\"], function(d3, c3) {\n",
       "                var chart = c3.generate({bindto: '#tooltip_grouping_chart', regions: [], padding: {}, grid: {y: {lines: [], show: false}, x: {lines: [], show: false}}, point: {}, size: {}, data: {axes: {line_two: 'y', line_one: 'y'}, labels: {format: {}}, colors: {}, columns: [['xline_one', 1, 2, 3, 4, 5], ['line_one', 10, 40, 20, 30, 50], ['xline_two', 1, 2, 3, 4, 5], ['line_two', 5, 20, 10, 15, 25]], groups: [], xs: {'line_one': 'xline_one', 'line_two': 'xline_two'}, types: {line_two: 'line', line_one: 'line'}}, legend: {position: 'bottom', hide: false, show: true}, tooltip: {grouped: false, format: {}, show: true}, axis: {y: {padding: {top: 0, bottom: 0}, tick: {}, label: {}, show: true}, x: {padding: {}, tick: {}, type: 'indexed', label: {}, show: true}, y2: {padding: {top: 0, bottom: 0}, tick: {}, label: {}, show: false}}});\n",
       "            });\n",
       "        </script>"
      ],
      "text/plain": [
       "<IPython.core.display.HTML object>"
      ]
     },
     "execution_count": 32,
     "metadata": {},
     "output_type": "execute_result"
    }
   ],
   "source": [
    "tooltip_grouping_chart = c3py.Chart('tooltip_grouping_chart')\n",
    "\n",
    "tooltip_grouping_chart.data.line(x=[1, 2, 3, 4, 5], y=[10, 40, 20, 30, 50], label='line_one')\n",
    "tooltip_grouping_chart.data.line(x=[1, 2, 3, 4, 5], y=[5, 20, 10, 15, 25], label='line_two')\n",
    "\n",
    "tooltip_grouping_chart.tooltip.ungroup()\n",
    "\n",
    "HTML(tooltip_grouping_chart.get_html_string())"
   ]
  },
  {
   "cell_type": "markdown",
   "metadata": {},
   "source": [
    "<h3>Tooltip title</h3>"
   ]
  },
  {
   "cell_type": "code",
   "execution_count": 33,
   "metadata": {
    "collapsed": false
   },
   "outputs": [
    {
     "data": {
      "text/html": [
       "<div id=\"tooltip_title_chart\"></div>\n",
       "<link href=\"https://cdnjs.cloudflare.com/ajax/libs/c3/0.4.10/c3.min.css\" type=\"text/css\" rel=\"stylesheet\"></link>\n",
       "<script src=\"http://ajax.googleapis.com/ajax/libs/jquery/1.11.2/jquery.min.js\"></script>\n",
       "<script src=\"https://cdnjs.cloudflare.com/ajax/libs/require.js/2.1.17/require.min.js\"></script>\n",
       "<style></style>\n",
       "<script type=\"text/javascript\">\n",
       "            require.config({\"paths\": {\"c3\": \"https://cdnjs.cloudflare.com/ajax/libs/c3/0.4.10/c3.min\", \"d3\": \"http://d3js.org/d3.v3.min\"}});\n",
       "\n",
       "            require([\"d3\", \"c3\"], function(d3, c3) {\n",
       "                var chart = c3.generate({bindto: '#tooltip_title_chart', regions: [], padding: {}, grid: {y: {lines: [], show: false}, x: {lines: [], show: false}}, point: {}, size: {}, data: {axes: {bar: 'y'}, labels: {format: {}}, colors: {}, columns: [['xbar', 1, 2, 3, 4, 5], ['bar', 10, 40, 20, 30, 50]], groups: [], xs: {'bar': 'xbar'}, types: {bar: 'bar'}}, legend: {position: 'bottom', hide: false, show: true}, tooltip: {grouped: true, format: {title: function(x) { return 'value on x axis = ' + x; }}, show: true}, axis: {y: {padding: {top: 0, bottom: 0}, tick: {}, label: {}, show: true}, x: {padding: {}, tick: {}, type: 'indexed', label: {}, show: true}, y2: {padding: {top: 0, bottom: 0}, tick: {}, label: {}, show: false}}});\n",
       "            });\n",
       "        </script>"
      ],
      "text/plain": [
       "<IPython.core.display.HTML object>"
      ]
     },
     "execution_count": 33,
     "metadata": {},
     "output_type": "execute_result"
    }
   ],
   "source": [
    "tooltip_title_chart = c3py.Chart('tooltip_title_chart')\n",
    "\n",
    "tooltip_title_chart.data.bar(x=[1, 2, 3, 4, 5], y=[10, 40, 20, 30, 50], label='bar')\n",
    "\n",
    "tooltip_title_chart.tooltip.tooltip_format.set_title('\"value on x axis = \" + x')\n",
    "\n",
    "HTML(tooltip_title_chart.get_html_string())"
   ]
  },
  {
   "cell_type": "markdown",
   "metadata": {},
   "source": [
    "<h2>Regions</h2>"
   ]
  },
  {
   "cell_type": "code",
   "execution_count": 34,
   "metadata": {
    "collapsed": false
   },
   "outputs": [
    {
     "data": {
      "text/html": [
       "<div id=\"regions_chart\"></div>\n",
       "<link href=\"https://cdnjs.cloudflare.com/ajax/libs/c3/0.4.10/c3.min.css\" type=\"text/css\" rel=\"stylesheet\"></link>\n",
       "<script src=\"http://ajax.googleapis.com/ajax/libs/jquery/1.11.2/jquery.min.js\"></script>\n",
       "<script src=\"https://cdnjs.cloudflare.com/ajax/libs/require.js/2.1.17/require.min.js\"></script>\n",
       "<style>\n",
       "                .c3-region.x_region {\n",
       "                    fill: red;\n",
       "                }\n",
       "            \n",
       "                .c3-region.y_region {\n",
       "                    fill: green;\n",
       "                }\n",
       "            </style>\n",
       "<script type=\"text/javascript\">\n",
       "            require.config({\"paths\": {\"c3\": \"https://cdnjs.cloudflare.com/ajax/libs/c3/0.4.10/c3.min\", \"d3\": \"http://d3js.org/d3.v3.min\"}});\n",
       "\n",
       "            require([\"d3\", \"c3\"], function(d3, c3) {\n",
       "                var chart = c3.generate({bindto: '#regions_chart', regions: [{start: 2, end: 4, class: 'x_region', axis: 'x'}, {start: 40, end: 50, class: 'y_region', axis: 'y'}], padding: {}, grid: {y: {lines: [], show: false}, x: {lines: [], show: false}}, point: {}, size: {}, data: {axes: {line: 'y'}, labels: {format: {}}, colors: {}, columns: [['xline', 1, 2, 3, 4, 5], ['line', 10, 40, 20, 30, 50]], groups: [], xs: {'line': 'xline'}, types: {line: 'line'}}, legend: {position: 'bottom', hide: false, show: true}, tooltip: {grouped: true, format: {}, show: true}, axis: {y: {padding: {top: 0, bottom: 0}, tick: {}, label: {}, show: true}, x: {padding: {}, tick: {}, type: 'indexed', label: {}, show: true}, y2: {padding: {top: 0, bottom: 0}, tick: {}, label: {}, show: false}}});\n",
       "            });\n",
       "        </script>"
      ],
      "text/plain": [
       "<IPython.core.display.HTML object>"
      ]
     },
     "execution_count": 34,
     "metadata": {},
     "output_type": "execute_result"
    }
   ],
   "source": [
    "regions_chart = c3py.Chart('regions_chart')\n",
    "\n",
    "regions_chart.data.line(x=[1, 2, 3, 4, 5], y=[10, 40, 20, 30, 50], label='line')\n",
    "\n",
    "regions_chart.regions.add(name='x_region', axis='x', start=2, end=4, color='red')\n",
    "regions_chart.regions.add(name='y_region', axis='y', start=40, end=50, color='green')\n",
    "\n",
    "HTML(regions_chart.get_html_string())"
   ]
  },
  {
   "cell_type": "code",
   "execution_count": 36,
   "metadata": {
    "collapsed": false
   },
   "outputs": [
    {
     "data": {
      "application/javascript": [
       "\n",
       "$.each($(\":header\"), function(index, value) {\n",
       "    value.id = value.innerText.replace(/\\s+/g, '').toLowerCase();\n",
       "    var heading_level = parseInt(value.localName.charAt(1));\n",
       "    $(\"#table_of_contents\").append(Array((heading_level - 1) * 6).join(\"&nbsp;\") + \"<a href='#\" + value.id + \"'>\" + value.innerText + \"</a><br />\");\n",
       "});"
      ],
      "text/plain": [
       "<IPython.core.display.Javascript object>"
      ]
     },
     "metadata": {},
     "output_type": "display_data"
    }
   ],
   "source": [
    "%%javascript\n",
    "\n",
    "$.each($(\":header\"), function(index, value) {\n",
    "    value.id = value.innerText.replace(/\\s+/g, '').toLowerCase();\n",
    "    var heading_level = parseInt(value.localName.charAt(1));\n",
    "    $(\"#table_of_contents\").append(Array((heading_level - 1) * 6).join(\"&nbsp;\") + \"<a href='#\" + value.id + \"'>\" + value.innerText + \"</a><br />\");\n",
    "});"
   ]
  }
 ],
 "metadata": {
  "kernelspec": {
   "display_name": "Python 2",
   "language": "python",
   "name": "python2"
  },
  "language_info": {
   "codemirror_mode": {
    "name": "ipython",
    "version": 2
   },
   "file_extension": ".py",
   "mimetype": "text/x-python",
   "name": "python",
   "nbconvert_exporter": "python",
   "pygments_lexer": "ipython2",
   "version": "2.7.6"
  }
 },
 "nbformat": 4,
 "nbformat_minor": 0
}
