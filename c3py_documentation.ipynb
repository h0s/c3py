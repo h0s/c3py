{
 "cells": [
  {
   "cell_type": "markdown",
   "metadata": {},
   "source": [
    "<h1>c3py</h1>\n",
    "\n",
    "c3py is a Python wrapper around c3js (http://c3js.org/)."
   ]
  },
  {
   "cell_type": "markdown",
   "metadata": {},
   "source": [
    "<h2>Introduction</h2>"
   ]
  },
  {
   "cell_type": "markdown",
   "metadata": {},
   "source": [
    "c3js has a function named <a href=\"http://c3js.org/gettingstarted.html#generate\">generate</a>, which takes a JSON object as input, and generates a chart which is bound to a specified &lt;div&gt; element. The basic premise of c3py is to build a Python dictionary, which is then converted to a JSON object using <a href=\"https://docs.python.org/2/library/json.html#json.dumps\">json.dumps</a>, and passed to c3.generate().\n",
    "\n",
    "This works particularly well with Jupyter notebooks, where the <a href=\"https://ipython.org/ipython-doc/dev/api/generated/IPython.display.html#IPython.display.HTML\">HTML</a> function from IPython.display can be used to display the interactive chart inline."
   ]
  },
  {
   "cell_type": "markdown",
   "metadata": {},
   "source": [
    "<h2>Basic usage</h2>"
   ]
  },
  {
   "cell_type": "markdown",
   "metadata": {},
   "source": [
    "First, import c3py and HTML (from IPython.display)."
   ]
  },
  {
   "cell_type": "code",
   "execution_count": 1,
   "metadata": {
    "collapsed": true
   },
   "outputs": [],
   "source": [
    "import c3py\n",
    "from IPython.display import HTML"
   ]
  },
  {
   "cell_type": "markdown",
   "metadata": {},
   "source": [
    "Create an instance of the Chart class, providing the chart's name as the lone argument. The name will be the ID of the &lt;div&gt; which contains that chart, i.e. two charts in the same document should not have the same name."
   ]
  },
  {
   "cell_type": "code",
   "execution_count": 2,
   "metadata": {
    "collapsed": true
   },
   "outputs": [],
   "source": [
    "chart_one = c3py.Chart('chart_one')"
   ]
  },
  {
   "cell_type": "markdown",
   "metadata": {},
   "source": [
    "The chart contains a data object, which has functions analogous to c3js' different <a href=\"http://c3js.org/examples.html#chart\">chart types</a>. These include:\n",
    "\n",
    "<ul>\n",
    "    <li>line</li>\n",
    "    <li>area</li>\n",
    "    <li>bar</li>\n",
    "    <li>scatter</li>\n",
    "</ul>\n",
    "\n",
    "Each of these functions takes, as arguments, x and y, which are lists of values, and label, which is a string defining the name of the series."
   ]
  },
  {
   "cell_type": "code",
   "execution_count": 3,
   "metadata": {
    "collapsed": true
   },
   "outputs": [],
   "source": [
    "chart_one.data.line(x=range(1, 6), y=range(10, 60, 10), label='line_chart')"
   ]
  },
  {
   "cell_type": "markdown",
   "metadata": {},
   "source": [
    "Once data has been added, the chart can be displayed in a notebook using the HTML function imported earlier. Alternatively, c3py can be used in a web application, and the HTML string can be passed to the front-end template."
   ]
  },
  {
   "cell_type": "code",
   "execution_count": 4,
   "metadata": {
    "collapsed": false
   },
   "outputs": [
    {
     "data": {
      "text/html": [
       "<div id=\"chart_one\"></div>\n",
       "<link href=\"https://cdnjs.cloudflare.com/ajax/libs/c3/0.4.10/c3.min.css\" type=\"text/css\" rel=\"stylesheet\"></link>\n",
       "<script src=\"http://ajax.googleapis.com/ajax/libs/jquery/1.11.2/jquery.min.js\"></script>\n",
       "<script src=\"https://cdnjs.cloudflare.com/ajax/libs/require.js/2.1.17/require.min.js\"></script>\n",
       "<style></style>\n",
       "<script type=\"text/javascript\">\n",
       "            require.config({\"paths\": {\"c3\": \"https://cdnjs.cloudflare.com/ajax/libs/c3/0.4.10/c3.min\", \"d3\": \"http://d3js.org/d3.v3.min\"}});\n",
       "\n",
       "            require([\"d3\", \"c3\"], function(d3, c3) {\n",
       "                var chart = c3.generate({bindto: '#chart_one', regions: [], padding: {}, grid: {y: {lines: [], show: false}, x: {lines: [], show: false}}, point: {}, size: {}, data: {axes: {line_chart: 'y'}, labels: {format: {}}, colors: {}, columns: [['xline_chart', 1, 2, 3, 4, 5], ['line_chart', 10, 20, 30, 40, 50]], groups: [], xs: {'line_chart': 'xline_chart'}, types: {line_chart: 'line'}}, legend: {position: 'bottom', hide: false, show: true}, tooltip: {grouped: true, format: {}, show: true}, axis: {y: {padding: {bottom: 0}, tick: {}, label: {}, show: true}, x: {padding: {}, tick: {}, type: 'indexed', label: {}, show: true}, y2: {padding: {bottom: 0}, tick: {}, label: {}, show: false}}});\n",
       "            });\n",
       "        </script>"
      ],
      "text/plain": [
       "<IPython.core.display.HTML object>"
      ]
     },
     "execution_count": 4,
     "metadata": {},
     "output_type": "execute_result"
    }
   ],
   "source": [
    "HTML(chart_one.get_html_string())"
   ]
  }
 ],
 "metadata": {
  "kernelspec": {
   "display_name": "Python 2",
   "language": "python",
   "name": "python2"
  },
  "language_info": {
   "codemirror_mode": {
    "name": "ipython",
    "version": 2
   },
   "file_extension": ".py",
   "mimetype": "text/x-python",
   "name": "python",
   "nbconvert_exporter": "python",
   "pygments_lexer": "ipython2",
   "version": "2.7.6"
  }
 },
 "nbformat": 4,
 "nbformat_minor": 0
}
