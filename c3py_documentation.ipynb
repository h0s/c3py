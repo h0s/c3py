{
 "cells": [
  {
   "cell_type": "markdown",
   "metadata": {},
   "source": [
    "<h1>c3py</h1>\n",
    "\n",
    "c3py is a Python wrapper around c3js (http://c3js.org/)."
   ]
  },
  {
   "cell_type": "markdown",
   "metadata": {},
   "source": [
    "<h2>Introduction</h2>"
   ]
  },
  {
   "cell_type": "markdown",
   "metadata": {},
   "source": [
    "c3js has a function named <a href=\"http://c3js.org/gettingstarted.html#generate\">generate</a>, which takes a JSON object as input, and generates a chart which is bound to a specified &lt;div&gt; element. The basic premise of c3py is to build a Python dictionary, which is then converted to a JSON object using <a href=\"https://docs.python.org/2/library/json.html#json.dumps\">json.dumps</a>, and passed to c3.generate().\n",
    "\n",
    "This works particularly well with Jupyter notebooks, where the <a href=\"https://ipython.org/ipython-doc/dev/api/generated/IPython.display.html#IPython.display.HTML\">HTML</a> function from IPython.display can be used to display the interactive chart inline."
   ]
  },
  {
   "cell_type": "markdown",
   "metadata": {},
   "source": [
    "<h2>Basic usage</h2>"
   ]
  },
  {
   "cell_type": "markdown",
   "metadata": {},
   "source": [
    "First, import c3py and HTML (from IPython.display)."
   ]
  },
  {
   "cell_type": "code",
   "execution_count": 1,
   "metadata": {
    "collapsed": true
   },
   "outputs": [],
   "source": [
    "import c3py\n",
    "from IPython.display import HTML"
   ]
  },
  {
   "cell_type": "markdown",
   "metadata": {},
   "source": [
    "Create an instance of the Chart class, providing the chart's name as the lone argument. The name will be the ID of the &lt;div&gt; which contains that chart, i.e. two charts in the same document should not have the same name."
   ]
  },
  {
   "cell_type": "code",
   "execution_count": 2,
   "metadata": {
    "collapsed": true
   },
   "outputs": [],
   "source": [
    "chart_one = c3py.Chart('chart_one')"
   ]
  },
  {
   "cell_type": "markdown",
   "metadata": {},
   "source": [
    "The chart contains a data object, which has functions analogous to c3js' different <a href=\"http://c3js.org/examples.html#chart\">chart types</a>. These include:\n",
    "\n",
    "<ul>\n",
    "    <li>line</li>\n",
    "    <li>area</li>\n",
    "    <li>bar</li>\n",
    "    <li>scatter</li>\n",
    "</ul>\n",
    "\n",
    "Each of these functions takes, as arguments, x and y, which are lists of values, and label, which is a string defining the name of the series."
   ]
  },
  {
   "cell_type": "code",
   "execution_count": 3,
   "metadata": {
    "collapsed": true
   },
   "outputs": [],
   "source": [
    "chart_one.data.line(x=range(1, 6), y=range(10, 60, 10), label='series_one')"
   ]
  },
  {
   "cell_type": "markdown",
   "metadata": {},
   "source": [
    "Once data has been added, the chart can be displayed in a notebook using the HTML function imported earlier. Alternatively, c3py can be used in a web application, and the HTML string can be passed to the front-end template."
   ]
  },
  {
   "cell_type": "code",
   "execution_count": 4,
   "metadata": {
    "collapsed": false
   },
   "outputs": [
    {
     "data": {
      "text/html": [
       "<div id=\"chart_one\"></div>\n",
       "<link href=\"https://cdnjs.cloudflare.com/ajax/libs/c3/0.4.10/c3.min.css\" type=\"text/css\" rel=\"stylesheet\"></link>\n",
       "<script src=\"http://ajax.googleapis.com/ajax/libs/jquery/1.11.2/jquery.min.js\"></script>\n",
       "<script src=\"https://cdnjs.cloudflare.com/ajax/libs/require.js/2.1.17/require.min.js\"></script>\n",
       "<style></style>\n",
       "<script type=\"text/javascript\">\n",
       "            require.config({\"paths\": {\"c3\": \"https://cdnjs.cloudflare.com/ajax/libs/c3/0.4.10/c3.min\", \"d3\": \"http://d3js.org/d3.v3.min\"}});\n",
       "\n",
       "            require([\"d3\", \"c3\"], function(d3, c3) {\n",
       "                var chart = c3.generate({bindto: '#chart_one', regions: [], padding: {}, grid: {y: {lines: [], show: false}, x: {lines: [], show: false}}, point: {}, size: {}, data: {axes: {series_one: 'y'}, labels: {format: {}}, colors: {}, columns: [['xseries_one', 1, 2, 3, 4, 5], ['series_one', 10, 20, 30, 40, 50]], groups: [], xs: {'series_one': 'xseries_one'}, types: {series_one: 'line'}}, legend: {position: 'bottom', hide: false, show: true}, tooltip: {grouped: true, format: {}, show: true}, axis: {y: {padding: {bottom: 0}, tick: {}, label: {}, show: true}, x: {padding: {}, tick: {}, type: 'indexed', label: {}, show: true}, y2: {padding: {bottom: 0}, tick: {}, label: {}, show: false}}});\n",
       "            });\n",
       "        </script>"
      ],
      "text/plain": [
       "<IPython.core.display.HTML object>"
      ]
     },
     "execution_count": 4,
     "metadata": {},
     "output_type": "execute_result"
    }
   ],
   "source": [
    "HTML(chart_one.get_html_string())"
   ]
  },
  {
   "cell_type": "markdown",
   "metadata": {},
   "source": [
    "<h2>Chart types</h2>"
   ]
  },
  {
   "cell_type": "markdown",
   "metadata": {},
   "source": [
    "<h3>Line</h3>"
   ]
  },
  {
   "cell_type": "code",
   "execution_count": 5,
   "metadata": {
    "collapsed": false
   },
   "outputs": [
    {
     "data": {
      "text/html": [
       "<div id=\"line_chart\"></div>\n",
       "<link href=\"https://cdnjs.cloudflare.com/ajax/libs/c3/0.4.10/c3.min.css\" type=\"text/css\" rel=\"stylesheet\"></link>\n",
       "<script src=\"http://ajax.googleapis.com/ajax/libs/jquery/1.11.2/jquery.min.js\"></script>\n",
       "<script src=\"https://cdnjs.cloudflare.com/ajax/libs/require.js/2.1.17/require.min.js\"></script>\n",
       "<style></style>\n",
       "<script type=\"text/javascript\">\n",
       "            require.config({\"paths\": {\"c3\": \"https://cdnjs.cloudflare.com/ajax/libs/c3/0.4.10/c3.min\", \"d3\": \"http://d3js.org/d3.v3.min\"}});\n",
       "\n",
       "            require([\"d3\", \"c3\"], function(d3, c3) {\n",
       "                var chart = c3.generate({bindto: '#line_chart', regions: [], padding: {}, grid: {y: {lines: [], show: false}, x: {lines: [], show: false}}, point: {}, size: {}, data: {axes: {line: 'y', step: 'y', spline: 'y'}, labels: {format: {}}, colors: {}, columns: [['xline', 1, 2, 3, 4, 5], ['line', 10, 40, 20, 30, 50], ['xstep', 6, 7, 8, 9, 10], ['step', 10, 40, 20, 30, 50], ['xspline', 11, 12, 13, 14, 15], ['spline', 10, 40, 20, 30, 50]], groups: [], xs: {'spline': 'xspline', 'step': 'xstep', 'line': 'xline'}, types: {line: 'line', step: 'step', spline: 'spline'}}, legend: {position: 'bottom', hide: false, show: true}, tooltip: {grouped: true, format: {}, show: true}, axis: {y: {padding: {bottom: 0}, tick: {}, label: {}, show: true}, x: {padding: {}, tick: {}, type: 'indexed', label: {}, show: true}, y2: {padding: {bottom: 0}, tick: {}, label: {}, show: false}}});\n",
       "            });\n",
       "        </script>"
      ],
      "text/plain": [
       "<IPython.core.display.HTML object>"
      ]
     },
     "execution_count": 5,
     "metadata": {},
     "output_type": "execute_result"
    }
   ],
   "source": [
    "line_chart = c3py.Chart('line_chart')\n",
    "line_chart.data.line(x=[1, 2, 3, 4, 5], y=[10, 40, 20, 30, 50], label='line')\n",
    "line_chart.data.line(x=[6, 7, 8, 9, 10], y=[10, 40, 20, 30, 50], step=True, label='step')\n",
    "line_chart.data.line(x=[11, 12, 13, 14, 15], y=[10, 40, 20, 30, 50], spline=True, label='spline')\n",
    "\n",
    "HTML(line_chart.get_html_string())"
   ]
  },
  {
   "cell_type": "markdown",
   "metadata": {},
   "source": [
    "<h3>Area</h3>"
   ]
  },
  {
   "cell_type": "code",
   "execution_count": 6,
   "metadata": {
    "collapsed": false
   },
   "outputs": [
    {
     "data": {
      "text/html": [
       "<div id=\"area_chart\"></div>\n",
       "<link href=\"https://cdnjs.cloudflare.com/ajax/libs/c3/0.4.10/c3.min.css\" type=\"text/css\" rel=\"stylesheet\"></link>\n",
       "<script src=\"http://ajax.googleapis.com/ajax/libs/jquery/1.11.2/jquery.min.js\"></script>\n",
       "<script src=\"https://cdnjs.cloudflare.com/ajax/libs/require.js/2.1.17/require.min.js\"></script>\n",
       "<style></style>\n",
       "<script type=\"text/javascript\">\n",
       "            require.config({\"paths\": {\"c3\": \"https://cdnjs.cloudflare.com/ajax/libs/c3/0.4.10/c3.min\", \"d3\": \"http://d3js.org/d3.v3.min\"}});\n",
       "\n",
       "            require([\"d3\", \"c3\"], function(d3, c3) {\n",
       "                var chart = c3.generate({bindto: '#area_chart', regions: [], padding: {}, grid: {y: {lines: [], show: false}, x: {lines: [], show: false}}, point: {}, size: {}, data: {axes: {area_step: 'y', area_spline: 'y', area: 'y'}, labels: {format: {}}, colors: {}, columns: [['xarea', 1, 2, 3, 4, 5], ['area', 10, 40, 20, 30, 50], ['xarea_step', 6, 7, 8, 9, 10], ['area_step', 10, 40, 20, 30, 50], ['xarea_spline', 11, 12, 13, 14, 15], ['area_spline', 10, 40, 20, 30, 50]], groups: [], xs: {'area_spline': 'xarea_spline', 'area': 'xarea', 'area_step': 'xarea_step'}, types: {area_step: 'area-step', area_spline: 'area-spline', area: 'area'}}, legend: {position: 'bottom', hide: false, show: true}, tooltip: {grouped: true, format: {}, show: true}, axis: {y: {padding: {bottom: 0}, tick: {}, label: {}, show: true}, x: {padding: {}, tick: {}, type: 'indexed', label: {}, show: true}, y2: {padding: {bottom: 0}, tick: {}, label: {}, show: false}}});\n",
       "            });\n",
       "        </script>"
      ],
      "text/plain": [
       "<IPython.core.display.HTML object>"
      ]
     },
     "execution_count": 6,
     "metadata": {},
     "output_type": "execute_result"
    }
   ],
   "source": [
    "area_chart = c3py.Chart('area_chart')\n",
    "area_chart.data.area(x=[1, 2, 3, 4, 5], y=[10, 40, 20, 30, 50], label='area')\n",
    "area_chart.data.area(x=[6, 7, 8, 9, 10], y=[10, 40, 20, 30, 50], step=True, label='area_step')\n",
    "area_chart.data.area(x=[11, 12, 13, 14, 15], y=[10, 40, 20, 30, 50], spline=True, label='area_spline')\n",
    "\n",
    "HTML(area_chart.get_html_string())"
   ]
  },
  {
   "cell_type": "markdown",
   "metadata": {},
   "source": [
    "<h4>Stacked area</h4>"
   ]
  },
  {
   "cell_type": "code",
   "execution_count": 7,
   "metadata": {
    "collapsed": false
   },
   "outputs": [
    {
     "data": {
      "text/html": [
       "<div id=\"stacked_area_chart\"></div>\n",
       "<link href=\"https://cdnjs.cloudflare.com/ajax/libs/c3/0.4.10/c3.min.css\" type=\"text/css\" rel=\"stylesheet\"></link>\n",
       "<script src=\"http://ajax.googleapis.com/ajax/libs/jquery/1.11.2/jquery.min.js\"></script>\n",
       "<script src=\"https://cdnjs.cloudflare.com/ajax/libs/require.js/2.1.17/require.min.js\"></script>\n",
       "<style></style>\n",
       "<script type=\"text/javascript\">\n",
       "            require.config({\"paths\": {\"c3\": \"https://cdnjs.cloudflare.com/ajax/libs/c3/0.4.10/c3.min\", \"d3\": \"http://d3js.org/d3.v3.min\"}});\n",
       "\n",
       "            require([\"d3\", \"c3\"], function(d3, c3) {\n",
       "                var chart = c3.generate({bindto: '#stacked_area_chart', regions: [], padding: {}, grid: {y: {lines: [], show: false}, x: {lines: [], show: false}}, point: {}, size: {}, data: {axes: {area_two: 'y', area_three: 'y', area_one: 'y'}, labels: {format: {}}, colors: {}, columns: [['xarea_one', 1, 2, 3, 4, 5], ['area_one', 10, 40, 20, 30, 50], ['xarea_two', 1, 2, 3, 4, 5], ['area_two', 10, 40, 20, 30, 50], ['xarea_three', 6, 7, 8, 9, 10], ['area_three', 10, 40, 20, 30, 50]], groups: [['area_one', 'area_two']], xs: {'area_two': 'xarea_two', 'area_three': 'xarea_three', 'area_one': 'xarea_one'}, types: {area_two: 'area', area_three: 'area', area_one: 'area'}}, legend: {position: 'bottom', hide: false, show: true}, tooltip: {grouped: true, format: {}, show: true}, axis: {y: {padding: {bottom: 0}, tick: {}, label: {}, show: true}, x: {padding: {}, tick: {}, type: 'indexed', label: {}, show: true}, y2: {padding: {bottom: 0}, tick: {}, label: {}, show: false}}});\n",
       "            });\n",
       "        </script>"
      ],
      "text/plain": [
       "<IPython.core.display.HTML object>"
      ]
     },
     "execution_count": 7,
     "metadata": {},
     "output_type": "execute_result"
    }
   ],
   "source": [
    "stacked_area_chart = c3py.Chart('stacked_area_chart')\n",
    "stacked_area_chart.data.area(x=[1, 2, 3, 4, 5], y=[10, 40, 20, 30, 50], label='area_one')\n",
    "stacked_area_chart.data.area(x=[1, 2, 3, 4, 5], y=[10, 40, 20, 30, 50], label='area_two')\n",
    "stacked_area_chart.data.area(x=[6, 7, 8, 9, 10], y=[10, 40, 20, 30, 50], label='area_three')\n",
    "\n",
    "stacked_area_chart.data.group_series(['area_one', 'area_two'])\n",
    "\n",
    "HTML(stacked_area_chart.get_html_string())"
   ]
  },
  {
   "cell_type": "markdown",
   "metadata": {},
   "source": [
    "<h3>Bar</h3>"
   ]
  },
  {
   "cell_type": "code",
   "execution_count": 8,
   "metadata": {
    "collapsed": false
   },
   "outputs": [
    {
     "data": {
      "text/html": [
       "<div id=\"bar_chart\"></div>\n",
       "<link href=\"https://cdnjs.cloudflare.com/ajax/libs/c3/0.4.10/c3.min.css\" type=\"text/css\" rel=\"stylesheet\"></link>\n",
       "<script src=\"http://ajax.googleapis.com/ajax/libs/jquery/1.11.2/jquery.min.js\"></script>\n",
       "<script src=\"https://cdnjs.cloudflare.com/ajax/libs/require.js/2.1.17/require.min.js\"></script>\n",
       "<style></style>\n",
       "<script type=\"text/javascript\">\n",
       "            require.config({\"paths\": {\"c3\": \"https://cdnjs.cloudflare.com/ajax/libs/c3/0.4.10/c3.min\", \"d3\": \"http://d3js.org/d3.v3.min\"}});\n",
       "\n",
       "            require([\"d3\", \"c3\"], function(d3, c3) {\n",
       "                var chart = c3.generate({bindto: '#bar_chart', regions: [], padding: {}, grid: {y: {lines: [], show: false}, x: {lines: [], show: false}}, point: {}, size: {}, data: {axes: {bar: 'y'}, labels: {format: {}}, colors: {}, columns: [['xbar', 1, 2, 3, 4, 5], ['bar', 10, 40, 20, 30, 50]], groups: [], xs: {'bar': 'xbar'}, types: {bar: 'bar'}}, legend: {position: 'bottom', hide: false, show: true}, tooltip: {grouped: true, format: {}, show: true}, axis: {y: {padding: {bottom: 0}, tick: {}, label: {}, show: true}, x: {padding: {}, tick: {}, type: 'indexed', label: {}, show: true}, y2: {padding: {bottom: 0}, tick: {}, label: {}, show: false}}});\n",
       "            });\n",
       "        </script>"
      ],
      "text/plain": [
       "<IPython.core.display.HTML object>"
      ]
     },
     "execution_count": 8,
     "metadata": {},
     "output_type": "execute_result"
    }
   ],
   "source": [
    "bar_chart = c3py.Chart('bar_chart')\n",
    "bar_chart.data.bar(x=[1, 2, 3, 4, 5], y=[10, 40, 20, 30, 50], label='bar')\n",
    "\n",
    "HTML(bar_chart.get_html_string())"
   ]
  },
  {
   "cell_type": "markdown",
   "metadata": {},
   "source": [
    "<h4>Stacked bar</h4>"
   ]
  },
  {
   "cell_type": "code",
   "execution_count": 9,
   "metadata": {
    "collapsed": false
   },
   "outputs": [
    {
     "data": {
      "text/html": [
       "<div id=\"stacked_bar_chart\"></div>\n",
       "<link href=\"https://cdnjs.cloudflare.com/ajax/libs/c3/0.4.10/c3.min.css\" type=\"text/css\" rel=\"stylesheet\"></link>\n",
       "<script src=\"http://ajax.googleapis.com/ajax/libs/jquery/1.11.2/jquery.min.js\"></script>\n",
       "<script src=\"https://cdnjs.cloudflare.com/ajax/libs/require.js/2.1.17/require.min.js\"></script>\n",
       "<style></style>\n",
       "<script type=\"text/javascript\">\n",
       "            require.config({\"paths\": {\"c3\": \"https://cdnjs.cloudflare.com/ajax/libs/c3/0.4.10/c3.min\", \"d3\": \"http://d3js.org/d3.v3.min\"}});\n",
       "\n",
       "            require([\"d3\", \"c3\"], function(d3, c3) {\n",
       "                var chart = c3.generate({bindto: '#stacked_bar_chart', regions: [], padding: {}, grid: {y: {lines: [], show: false}, x: {lines: [], show: false}}, point: {}, size: {}, data: {axes: {bar_three: 'y', bar_two: 'y', bar_one: 'y'}, labels: {format: {}}, colors: {}, columns: [['xbar_one', 1, 2, 3, 4, 5], ['bar_one', 10, 40, 20, 30, 50], ['xbar_two', 1, 2, 3, 4, 5], ['bar_two', 10, 40, 20, 30, 50], ['xbar_three', 1, 2, 3, 4, 5], ['bar_three', 10, 40, 20, 30, 50]], groups: [['bar_one', 'bar_two']], xs: {'bar_two': 'xbar_two', 'bar_one': 'xbar_one', 'bar_three': 'xbar_three'}, types: {bar_three: 'bar', bar_two: 'bar', bar_one: 'bar'}}, legend: {position: 'bottom', hide: false, show: true}, tooltip: {grouped: true, format: {}, show: true}, axis: {y: {padding: {bottom: 0}, tick: {}, label: {}, show: true}, x: {padding: {}, tick: {}, type: 'indexed', label: {}, show: true}, y2: {padding: {bottom: 0}, tick: {}, label: {}, show: false}}});\n",
       "            });\n",
       "        </script>"
      ],
      "text/plain": [
       "<IPython.core.display.HTML object>"
      ]
     },
     "execution_count": 9,
     "metadata": {},
     "output_type": "execute_result"
    }
   ],
   "source": [
    "stacked_bar_chart = c3py.Chart('stacked_bar_chart')\n",
    "stacked_bar_chart.data.bar(x=[1, 2, 3, 4, 5], y=[10, 40, 20, 30, 50], label='bar_one')\n",
    "stacked_bar_chart.data.bar(x=[1, 2, 3, 4, 5], y=[10, 40, 20, 30, 50], label='bar_two')\n",
    "stacked_bar_chart.data.bar(x=[1, 2, 3, 4, 5], y=[10, 40, 20, 30, 50], label='bar_three')\n",
    "\n",
    "stacked_bar_chart.data.group_series(['bar_one', 'bar_two'])\n",
    "\n",
    "HTML(stacked_bar_chart.get_html_string())"
   ]
  },
  {
   "cell_type": "markdown",
   "metadata": {},
   "source": [
    "<h3>Scatter</h3>"
   ]
  },
  {
   "cell_type": "code",
   "execution_count": 10,
   "metadata": {
    "collapsed": false
   },
   "outputs": [
    {
     "data": {
      "text/html": [
       "<div id=\"scatter_chart\"></div>\n",
       "<link href=\"https://cdnjs.cloudflare.com/ajax/libs/c3/0.4.10/c3.min.css\" type=\"text/css\" rel=\"stylesheet\"></link>\n",
       "<script src=\"http://ajax.googleapis.com/ajax/libs/jquery/1.11.2/jquery.min.js\"></script>\n",
       "<script src=\"https://cdnjs.cloudflare.com/ajax/libs/require.js/2.1.17/require.min.js\"></script>\n",
       "<style></style>\n",
       "<script type=\"text/javascript\">\n",
       "            require.config({\"paths\": {\"c3\": \"https://cdnjs.cloudflare.com/ajax/libs/c3/0.4.10/c3.min\", \"d3\": \"http://d3js.org/d3.v3.min\"}});\n",
       "\n",
       "            require([\"d3\", \"c3\"], function(d3, c3) {\n",
       "                var chart = c3.generate({bindto: '#scatter_chart', regions: [], padding: {}, grid: {y: {lines: [], show: false}, x: {lines: [], show: false}}, point: {}, size: {}, data: {axes: {scatter: 'y'}, labels: {format: {}}, colors: {}, columns: [['xscatter', 1, 2, 3, 4, 5], ['scatter', 10, 40, 20, 30, 50]], groups: [], xs: {'scatter': 'xscatter'}, types: {scatter: 'scatter'}}, legend: {position: 'bottom', hide: false, show: true}, tooltip: {grouped: true, format: {}, show: true}, axis: {y: {padding: {bottom: 0}, tick: {}, label: {}, show: true}, x: {padding: {}, tick: {}, type: 'indexed', label: {}, show: true}, y2: {padding: {bottom: 0}, tick: {}, label: {}, show: false}}});\n",
       "            });\n",
       "        </script>"
      ],
      "text/plain": [
       "<IPython.core.display.HTML object>"
      ]
     },
     "execution_count": 10,
     "metadata": {},
     "output_type": "execute_result"
    }
   ],
   "source": [
    "scatter_chart = c3py.Chart('scatter_chart')\n",
    "scatter_chart.data.scatter(x=[1, 2, 3, 4, 5], y=[10, 40, 20, 30, 50], label='scatter')\n",
    "\n",
    "HTML(scatter_chart.get_html_string())"
   ]
  },
  {
   "cell_type": "markdown",
   "metadata": {},
   "source": [
    "<h3>Combination</h3>"
   ]
  },
  {
   "cell_type": "code",
   "execution_count": 11,
   "metadata": {
    "collapsed": false
   },
   "outputs": [
    {
     "data": {
      "text/html": [
       "<div id=\"combination_chart\"></div>\n",
       "<link href=\"https://cdnjs.cloudflare.com/ajax/libs/c3/0.4.10/c3.min.css\" type=\"text/css\" rel=\"stylesheet\"></link>\n",
       "<script src=\"http://ajax.googleapis.com/ajax/libs/jquery/1.11.2/jquery.min.js\"></script>\n",
       "<script src=\"https://cdnjs.cloudflare.com/ajax/libs/require.js/2.1.17/require.min.js\"></script>\n",
       "<style></style>\n",
       "<script type=\"text/javascript\">\n",
       "            require.config({\"paths\": {\"c3\": \"https://cdnjs.cloudflare.com/ajax/libs/c3/0.4.10/c3.min\", \"d3\": \"http://d3js.org/d3.v3.min\"}});\n",
       "\n",
       "            require([\"d3\", \"c3\"], function(d3, c3) {\n",
       "                var chart = c3.generate({bindto: '#combination_chart', regions: [], padding: {}, grid: {y: {lines: [], show: false}, x: {lines: [], show: false}}, point: {}, size: {}, data: {axes: {line: 'y', bar: 'y', scatter: 'y', area: 'y'}, labels: {format: {}}, colors: {}, columns: [['xline', 1, 2, 3, 4, 5], ['line', 10, 40, 20, 30, 50], ['xarea', 1, 2, 3, 4, 5], ['area', 5, 20, 10, 15, 25], ['xscatter', 6, 7, 8, 9, 10], ['scatter', 10, 40, 20, 30, 50], ['xbar', 6, 7, 8, 9, 10], ['bar', 5, 20, 10, 15, 25]], groups: [], xs: {'bar': 'xbar', 'area': 'xarea', 'line': 'xline', 'scatter': 'xscatter'}, types: {line: 'line', bar: 'bar', scatter: 'scatter', area: 'area'}}, legend: {position: 'bottom', hide: false, show: true}, tooltip: {grouped: true, format: {}, show: true}, axis: {y: {padding: {bottom: 0}, tick: {}, label: {}, show: true}, x: {padding: {}, tick: {}, type: 'indexed', label: {}, show: true}, y2: {padding: {bottom: 0}, tick: {}, label: {}, show: false}}});\n",
       "            });\n",
       "        </script>"
      ],
      "text/plain": [
       "<IPython.core.display.HTML object>"
      ]
     },
     "execution_count": 11,
     "metadata": {},
     "output_type": "execute_result"
    }
   ],
   "source": [
    "combination_chart = c3py.Chart('combination_chart')\n",
    "\n",
    "combination_chart.data.line(x=[1, 2, 3, 4, 5], y=[10, 40, 20, 30, 50], label='line')\n",
    "combination_chart.data.area(x=[1, 2, 3, 4, 5], y=[5, 20, 10, 15, 25], label='area')\n",
    "combination_chart.data.scatter(x=[6, 7, 8, 9, 10], y=[10, 40, 20, 30, 50], label='scatter')\n",
    "combination_chart.data.bar(x=[6, 7, 8, 9, 10], y=[5, 20, 10, 15, 25], label='bar')\n",
    "\n",
    "HTML(combination_chart.get_html_string())"
   ]
  },
  {
   "cell_type": "markdown",
   "metadata": {},
   "source": [
    "<h2>Axis manipulation</h2>"
   ]
  },
  {
   "cell_type": "markdown",
   "metadata": {},
   "source": [
    "<h3>X axis type</h3>"
   ]
  },
  {
   "cell_type": "markdown",
   "metadata": {},
   "source": [
    "<h4>Category</h4>"
   ]
  },
  {
   "cell_type": "code",
   "execution_count": 12,
   "metadata": {
    "collapsed": false
   },
   "outputs": [
    {
     "data": {
      "text/html": [
       "<div id=\"category_axis\"></div>\n",
       "<link href=\"https://cdnjs.cloudflare.com/ajax/libs/c3/0.4.10/c3.min.css\" type=\"text/css\" rel=\"stylesheet\"></link>\n",
       "<script src=\"http://ajax.googleapis.com/ajax/libs/jquery/1.11.2/jquery.min.js\"></script>\n",
       "<script src=\"https://cdnjs.cloudflare.com/ajax/libs/require.js/2.1.17/require.min.js\"></script>\n",
       "<style></style>\n",
       "<script type=\"text/javascript\">\n",
       "            require.config({\"paths\": {\"c3\": \"https://cdnjs.cloudflare.com/ajax/libs/c3/0.4.10/c3.min\", \"d3\": \"http://d3js.org/d3.v3.min\"}});\n",
       "\n",
       "            require([\"d3\", \"c3\"], function(d3, c3) {\n",
       "                var chart = c3.generate({bindto: '#category_axis', regions: [], padding: {}, grid: {y: {lines: [], show: false}, x: {lines: [], show: false}}, point: {}, size: {}, data: {axes: {bar_category: 'y'}, labels: {format: {}}, colors: {}, columns: [['xbar_category', 'a', 'b', 'c', 'd', 'e'], ['bar_category', 10, 40, 20, 30, 50]], groups: [], xs: {'bar_category': 'xbar_category'}, types: {bar_category: 'bar'}}, legend: {position: 'bottom', hide: false, show: true}, tooltip: {grouped: true, format: {}, show: true}, axis: {y: {padding: {bottom: 0}, tick: {}, label: {}, show: true}, x: {padding: {}, tick: {}, type: 'category', label: {}, show: true}, y2: {padding: {bottom: 0}, tick: {}, label: {}, show: false}}});\n",
       "            });\n",
       "        </script>"
      ],
      "text/plain": [
       "<IPython.core.display.HTML object>"
      ]
     },
     "execution_count": 12,
     "metadata": {},
     "output_type": "execute_result"
    }
   ],
   "source": [
    "category_axis = c3py.Chart('category_axis')\n",
    "\n",
    "category_axis.axes.x_axis.set_type('category')\n",
    "\n",
    "category_axis.data.bar(x=['a', 'b', 'c', 'd', 'e'], y=[10, 40, 20, 30, 50], label='bar_category')\n",
    "\n",
    "HTML(category_axis.get_html_string())"
   ]
  },
  {
   "cell_type": "markdown",
   "metadata": {},
   "source": [
    "<h4>Time series</h4>"
   ]
  },
  {
   "cell_type": "code",
   "execution_count": 13,
   "metadata": {
    "collapsed": false
   },
   "outputs": [
    {
     "data": {
      "text/html": [
       "<div id=\"timeseries_axis\"></div>\n",
       "<link href=\"https://cdnjs.cloudflare.com/ajax/libs/c3/0.4.10/c3.min.css\" type=\"text/css\" rel=\"stylesheet\"></link>\n",
       "<script src=\"http://ajax.googleapis.com/ajax/libs/jquery/1.11.2/jquery.min.js\"></script>\n",
       "<script src=\"https://cdnjs.cloudflare.com/ajax/libs/require.js/2.1.17/require.min.js\"></script>\n",
       "<style></style>\n",
       "<script type=\"text/javascript\">\n",
       "            require.config({\"paths\": {\"c3\": \"https://cdnjs.cloudflare.com/ajax/libs/c3/0.4.10/c3.min\", \"d3\": \"http://d3js.org/d3.v3.min\"}});\n",
       "\n",
       "            require([\"d3\", \"c3\"], function(d3, c3) {\n",
       "                var chart = c3.generate({bindto: '#timeseries_axis', regions: [], padding: {}, grid: {y: {lines: [], show: false}, x: {lines: [], show: false}}, point: {}, size: {}, data: {axes: {line_timeseries: 'y'}, labels: {format: {}}, colors: {}, columns: [['xline_timeseries', '2000-01-01', '2000-01-02', '2000-01-03', '2000-01-04', '2000-01-05'], ['line_timeseries', 10, 40, 20, 30, 50]], groups: [], xs: {'line_timeseries': 'xline_timeseries'}, types: {line_timeseries: 'line'}}, legend: {position: 'bottom', hide: false, show: true}, tooltip: {grouped: true, format: {}, show: true}, axis: {y: {padding: {bottom: 0}, tick: {}, label: {}, show: true}, x: {padding: {}, tick: {format: d3.time.format('%Y-%m-%d')}, type: 'timeseries', label: {}, show: true}, y2: {padding: {bottom: 0}, tick: {}, label: {}, show: false}}});\n",
       "            });\n",
       "        </script>"
      ],
      "text/plain": [
       "<IPython.core.display.HTML object>"
      ]
     },
     "execution_count": 13,
     "metadata": {},
     "output_type": "execute_result"
    }
   ],
   "source": [
    "timeseries_axis = c3py.Chart('timeseries_axis')\n",
    "\n",
    "timeseries_axis.axes.x_axis.set_type('timeseries')\n",
    "\n",
    "timeseries_axis.data.line(x=['2000-01-01', '2000-01-02', '2000-01-03', '2000-01-04', '2000-01-05'], y=[10, 40, 20, 30, 50], label='line_timeseries')\n",
    "\n",
    "HTML(timeseries_axis.get_html_string())"
   ]
  }
 ],
 "metadata": {
  "kernelspec": {
   "display_name": "Python 2",
   "language": "python",
   "name": "python2"
  },
  "language_info": {
   "codemirror_mode": {
    "name": "ipython",
    "version": 2
   },
   "file_extension": ".py",
   "mimetype": "text/x-python",
   "name": "python",
   "nbconvert_exporter": "python",
   "pygments_lexer": "ipython2",
   "version": "2.7.6"
  }
 },
 "nbformat": 4,
 "nbformat_minor": 0
}
